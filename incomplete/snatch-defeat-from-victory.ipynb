{
 "cells": [
  {
   "cell_type": "markdown",
   "metadata": {},
   "source": [
    "# Can You Snatch Defeat From The Jaws Of Victory?\n",
    "\n",
    "**2020-06-12**: https://fivethirtyeight.com/features/can-you-snatch-defeat-from-the-jaws-of-victory/\n",
    "\n",
    "## Riddler Express\n",
    "\n",
    "Last Sunday we lost Alex Trebek, a giant in the world of game shows and trivia. The show he hosted over the course of four decades — Jeopardy! — has previously appeared in this column. Today, it makes a return.\n",
    "\n",
    "You’re playing the (single) Jeopardy! round, and your opponents are simply no match for you. You choose first and never relinquish control, working your way horizontally across the board by first selecting all six \\\\$200 clues, then all six \\\\$400 clues, and so on, until you finally select all the \\\\$1,000 clues. You respond to each clue correctly before either of your opponents can.\n",
    "\n",
    "One randomly selected clue is a Daily Double. Rather than award you the prize money associated with that clue, it instead allows you to double your current winnings or wager up to $1,000 should you have less than that. Being the aggressive player you are, you always bet the most you can. (In reality, the Daily Double is more likely to appear [in certain locations](https://www.vox.com/2015/3/3/8140405/jeopardy-daily-double-statistics) on the board than others, but for this problem assume it has an equal chance of appearing anywhere on the board.)\n",
    "\n",
    "How much money do you expect to win during the Jeopardy! round?\n",
    "\n",
    "Extra credit: Suppose you change your strategy. Instead of working your way horizontally across the board, you select random clues from anywhere on the board, one at a time. Now how much money do you expect to win during the Jeopardy! round?\n",
    "\n",
    "### Solution\n",
    "\n",
    "Let's just enumerate the outcomes."
   ]
  },
  {
   "cell_type": "code",
   "execution_count": 1,
   "metadata": {},
   "outputs": [],
   "source": [
    "import numpy as np"
   ]
  },
  {
   "cell_type": "code",
   "execution_count": 2,
   "metadata": {},
   "outputs": [
    {
     "data": {
      "text/plain": [
       "array([ 200,  200,  200,  200,  200,  200,  400,  400,  400,  400,  400,\n",
       "        400,  600,  600,  600,  600,  600,  600,  800,  800,  800,  800,\n",
       "        800,  800, 1000, 1000, 1000, 1000, 1000, 1000])"
      ]
     },
     "execution_count": 2,
     "metadata": {},
     "output_type": "execute_result"
    }
   ],
   "source": [
    "all_clues = np.repeat([200, 400, 600, 800, 1000], 6)\n",
    "all_clues"
   ]
  },
  {
   "cell_type": "markdown",
   "metadata": {},
   "source": [
    "Let's create an array of length 30 that represents how much money I'd have at each point in the game, assuming the daily double hasn't already been chosen. The index number represents how many questions I've answered so far. FOr example at index 0 it's the beginning of the game and I'm starting with \\\\$0. Index 6 has a value of \\\\$1200 because I've answered all six of the \\\\$200 questions."
   ]
  },
  {
   "cell_type": "code",
   "execution_count": 3,
   "metadata": {},
   "outputs": [
    {
     "data": {
      "text/plain": [
       "array([    0,   200,   400,   600,   800,  1000,  1200,  1600,  2000,\n",
       "        2400,  2800,  3200,  3600,  4200,  4800,  5400,  6000,  6600,\n",
       "        7200,  8000,  8800,  9600, 10400, 11200, 12000, 13000, 14000,\n",
       "       15000, 16000, 17000])"
      ]
     },
     "execution_count": 3,
     "metadata": {},
     "output_type": "execute_result"
    }
   ],
   "source": [
    "round_start = np.cumsum(all_clues) - all_clues\n",
    "round_start"
   ]
  },
  {
   "cell_type": "markdown",
   "metadata": {},
   "source": [
    "Now I'll create an array that represents how much I'd gain by the daily double appearing at that point in the game. It's simply the value of what I have at the time I select the daily double, unless I'm under \\\\$1000. If I don't yet have \\\\$1000 then the gain is \\\\$1000."
   ]
  },
  {
   "cell_type": "code",
   "execution_count": 4,
   "metadata": {},
   "outputs": [
    {
     "data": {
      "text/plain": [
       "array([ 1000,  1000,  1000,  1000,  1000,  1000,  1200,  1600,  2000,\n",
       "        2400,  2800,  3200,  3600,  4200,  4800,  5400,  6000,  6600,\n",
       "        7200,  8000,  8800,  9600, 10400, 11200, 12000, 13000, 14000,\n",
       "       15000, 16000, 17000])"
      ]
     },
     "execution_count": 4,
     "metadata": {},
     "output_type": "execute_result"
    }
   ],
   "source": [
    "gain = np.where(round_start < 1000, 1000, round_start)\n",
    "gain"
   ]
  },
  {
   "cell_type": "markdown",
   "metadata": {},
   "source": [
    "Now let's loop through every possible position for the Daily Double to appear in. The amount of money I'll have at the end of the round is the money I have when I select the Daily Double, plus the gain I receive by selecting it at that point, plus the sum of all clues left to select still."
   ]
  },
  {
   "cell_type": "code",
   "execution_count": 5,
   "metadata": {},
   "outputs": [
    {
     "data": {
      "text/plain": [
       "array([18800, 18800, 18800, 18800, 18800, 18800, 18800, 19200, 19600,\n",
       "       20000, 20400, 20800, 21000, 21600, 22200, 22800, 23400, 24000,\n",
       "       24400, 25200, 26000, 26800, 27600, 28400, 29000, 30000, 31000,\n",
       "       32000, 33000, 34000])"
      ]
     },
     "execution_count": 5,
     "metadata": {},
     "output_type": "execute_result"
    }
   ],
   "source": [
    "totals = np.arange(30)\n",
    "\n",
    "for i in range(30):\n",
    "    start = round_start[i]\n",
    "    profit = gain[i]\n",
    "    total = start + profit + np.sum(all_clues[i+1:])\n",
    "    totals[i] = total\n",
    "    \n",
    "totals"
   ]
  },
  {
   "cell_type": "markdown",
   "metadata": {},
   "source": [
    "Since the Daily Double is equally likely to appear in any position, the expected value is simply the average of all these final values. "
   ]
  },
  {
   "cell_type": "code",
   "execution_count": 6,
   "metadata": {},
   "outputs": [
    {
     "data": {
      "text/plain": [
       "23800.0"
      ]
     },
     "execution_count": 6,
     "metadata": {},
     "output_type": "execute_result"
    }
   ],
   "source": [
    "np.mean(totals)"
   ]
  },
  {
   "cell_type": "markdown",
   "metadata": {},
   "source": [
    "### Extra Credit Solution\n",
    "\n",
    "Let's use a simulation."
   ]
  },
  {
   "cell_type": "code",
   "execution_count": 44,
   "metadata": {},
   "outputs": [
    {
     "data": {
      "text/plain": [
       "array([[ 1000,  1000,  1000,  1600,  1800,  2000,  2600,  3200,  3600,\n",
       "         4600,  5400,  6400,  6600,  6800,  7200,  8200,  9200,  9600,\n",
       "        10400, 10600, 11000, 11400, 12400, 13000, 14000, 14400, 15200,\n",
       "        15800, 16600, 17400],\n",
       "       [ 1000,  1000,  2000,  2400,  3200,  4200,  4400,  4800,  5000,\n",
       "         5600,  6000,  6400,  6600,  7400,  8200,  8800,  9000,  9200,\n",
       "        10000, 10600, 11200, 11800, 12400, 13200, 14200, 15000, 15400,\n",
       "        15800, 16000, 17000],\n",
       "       [ 1000,  1000,  1000,  1400,  2400,  3200,  3600,  4600,  5400,\n",
       "         6400,  6600,  7600,  8000,  8400,  9200, 10000, 10600, 11200,\n",
       "        11600, 12600, 13000, 13800, 14000, 14600, 14800, 15600, 15800,\n",
       "        16800, 17200, 17800]])"
      ]
     },
     "execution_count": 44,
     "metadata": {},
     "output_type": "execute_result"
    }
   ],
   "source": [
    "n_sims = 3\n",
    "\n",
    "clues = np.random.random(size=(n_sims, 30))\n",
    "clues = all_clues[np.argsort(clues)]\n",
    "\n",
    "round_start = np.cumsum(clues, axis=1) - clues\n",
    "gain = np.where(round_start < 1000, 1000, round_start)\n",
    "gain"
   ]
  },
  {
   "cell_type": "code",
   "execution_count": 47,
   "metadata": {},
   "outputs": [
    {
     "data": {
      "text/plain": [
       "array([26, 20,  1])"
      ]
     },
     "execution_count": 47,
     "metadata": {},
     "output_type": "execute_result"
    }
   ],
   "source": [
    "daily_double = np.random.randint(30, size=3)\n",
    "daily_double"
   ]
  },
  {
   "cell_type": "code",
   "execution_count": 51,
   "metadata": {},
   "outputs": [
    {
     "data": {
      "text/plain": [
       "array([0, 1, 2])"
      ]
     },
     "execution_count": 51,
     "metadata": {},
     "output_type": "execute_result"
    }
   ],
   "source": [
    "profits = np.arange(n_sims)\n",
    "profits"
   ]
  },
  {
   "cell_type": "code",
   "execution_count": null,
   "metadata": {},
   "outputs": [],
   "source": [
    "for i in range(n_sims):\n",
    "    DD = daily_double[i]\n",
    "    \n",
    "    "
   ]
  }
 ],
 "metadata": {
  "kernelspec": {
   "display_name": "Python 3",
   "language": "python",
   "name": "python3"
  },
  "language_info": {
   "codemirror_mode": {
    "name": "ipython",
    "version": 3
   },
   "file_extension": ".py",
   "mimetype": "text/x-python",
   "name": "python",
   "nbconvert_exporter": "python",
   "pygments_lexer": "ipython3",
   "version": "3.7.7"
  }
 },
 "nbformat": 4,
 "nbformat_minor": 4
}
