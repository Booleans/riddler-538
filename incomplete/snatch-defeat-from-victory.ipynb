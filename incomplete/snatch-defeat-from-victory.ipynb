{
 "cells": [
  {
   "cell_type": "code",
   "execution_count": 1,
   "metadata": {},
   "outputs": [],
   "source": [
    "import numpy as np"
   ]
  },
  {
   "cell_type": "code",
   "execution_count": 23,
   "metadata": {},
   "outputs": [
    {
     "data": {
      "text/plain": [
       "array([ 200,  200,  200,  200,  200,  200,  400,  400,  400,  400,  400,\n",
       "        400,  600,  600,  600,  600,  600,  600,  800,  800,  800,  800,\n",
       "        800,  800, 1000, 1000, 1000, 1000, 1000, 1000])"
      ]
     },
     "execution_count": 23,
     "metadata": {},
     "output_type": "execute_result"
    }
   ],
   "source": [
    "all_clues = np.repeat([200, 400, 600, 800 , 1000], 6)\n",
    "all_clues"
   ]
  },
  {
   "cell_type": "code",
   "execution_count": 24,
   "metadata": {},
   "outputs": [
    {
     "data": {
      "text/plain": [
       "array([    0,   200,   400,   600,   800,  1000,  1200,  1600,  2000,\n",
       "        2400,  2800,  3200,  3600,  4200,  4800,  5400,  6000,  6600,\n",
       "        7200,  8000,  8800,  9600, 10400, 11200, 12000, 13000, 14000,\n",
       "       15000, 16000, 17000])"
      ]
     },
     "execution_count": 24,
     "metadata": {},
     "output_type": "execute_result"
    }
   ],
   "source": [
    "round_start = np.cumsum(all_clues) - all_clues\n",
    "round_start"
   ]
  },
  {
   "cell_type": "code",
   "execution_count": 25,
   "metadata": {},
   "outputs": [
    {
     "data": {
      "text/plain": [
       "array([ 0,  1,  2,  3,  4,  5,  6,  7,  8,  9, 10, 11, 12, 13, 14, 15, 16,\n",
       "       17, 18, 19, 20, 21, 22, 23, 24, 25, 26, 27, 28, 29])"
      ]
     },
     "execution_count": 25,
     "metadata": {},
     "output_type": "execute_result"
    }
   ],
   "source": [
    "daily_double = np.arange(len(all_clues))\n",
    "daily_double"
   ]
  },
  {
   "cell_type": "code",
   "execution_count": 26,
   "metadata": {},
   "outputs": [
    {
     "data": {
      "text/plain": [
       "array([ 1000,  1000,  1000,  1000,  1000,  1000,  1200,  1600,  2000,\n",
       "        2400,  2800,  3200,  3600,  4200,  4800,  5400,  6000,  6600,\n",
       "        7200,  8000,  8800,  9600, 10400, 11200, 12000, 13000, 14000,\n",
       "       15000, 16000, 17000])"
      ]
     },
     "execution_count": 26,
     "metadata": {},
     "output_type": "execute_result"
    }
   ],
   "source": [
    "gain = np.where(round_start < 1000, 1000, round_start)\n",
    "gain"
   ]
  },
  {
   "cell_type": "code",
   "execution_count": 27,
   "metadata": {},
   "outputs": [
    {
     "data": {
      "text/plain": [
       "array([18800, 18800, 18800, 18800, 18800, 18800, 18800, 19200, 19600,\n",
       "       20000, 20400, 20800, 21000, 21600, 22200, 22800, 23400, 24000,\n",
       "       24400, 25200, 26000, 26800, 27600, 28400, 29000, 30000, 31000,\n",
       "       32000, 33000, 34000])"
      ]
     },
     "execution_count": 27,
     "metadata": {},
     "output_type": "execute_result"
    }
   ],
   "source": [
    "totals = np.arange(30)\n",
    "\n",
    "for i in range(30):\n",
    "    start = round_start[i]\n",
    "    profit = gain[i]\n",
    "    total = start + profit + np.sum(all_clues[i+1:])\n",
    "    totals[i] = total\n",
    "    \n",
    "totals"
   ]
  },
  {
   "cell_type": "code",
   "execution_count": null,
   "metadata": {},
   "outputs": [],
   "source": []
  }
 ],
 "metadata": {
  "kernelspec": {
   "display_name": "Python 3",
   "language": "python",
   "name": "python3"
  },
  "language_info": {
   "codemirror_mode": {
    "name": "ipython",
    "version": 3
   },
   "file_extension": ".py",
   "mimetype": "text/x-python",
   "name": "python",
   "nbconvert_exporter": "python",
   "pygments_lexer": "ipython3",
   "version": "3.8.5"
  }
 },
 "nbformat": 4,
 "nbformat_minor": 4
}
