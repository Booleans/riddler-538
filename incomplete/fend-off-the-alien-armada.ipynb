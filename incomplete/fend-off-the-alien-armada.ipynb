{
 "cells": [
  {
   "cell_type": "markdown",
   "id": "a15ddd49-cc9c-47b8-9f5c-9c81d0f029b6",
   "metadata": {},
   "source": [
    "# Can You Fend Off The Alien Armada?\n",
    "\n",
    "For proper formatting I recommend viewing this notebook using TODO [nbviewer](TODO).\n",
    "\n",
    "**2023-01-06**: https://fivethirtyeight.com/features/can-you-fend-off-the-alien-armada/\n",
    "\n",
    "From James Anderson comes a puzzle to stave off galactic disaster:\n",
    "\n",
    "The astronomers of [Planet Xiddler](https://fivethirtyeight.com/features/can-you-measure-the-mystery-planet/) are back in action! Unfortunately, this time they have used their telescopes to spot an armada of hostile alien warships on a direct course for Xiddler. The armada will be arriving in exactly 100 days. ([Recall](https://fivethirtyeight.com/features/can-you-pinpoint-the-planet/) that, like Earth, there are 24 hours in a Xiddler day.)\n",
    "\n",
    "Fortunately, Xiddler’s engineers have just completed construction of the planet’s first assembler, which is capable of producing any object. An assembler can be used to build a space fighter to defend the planet, which takes one hour to produce. An assembler can also be used to build another assembler (which, in turn, can build other space fighters or assemblers). However, building an assembler is more time-consuming, requiring six whole days. Also, you cannot use multiple assemblers to build one space fighter or assembler in a shorter period of time.\n",
    "\n",
    "What is the greatest number of space fighters the Xiddlerian fleet can have when the alien armada arrives?"
   ]
  },
  {
   "cell_type": "code",
   "execution_count": null,
   "id": "e8e66893-3a31-439e-8a1a-2e69664f3f45",
   "metadata": {},
   "outputs": [],
   "source": []
  }
 ],
 "metadata": {
  "kernelspec": {
   "display_name": "Python 3 (ipykernel)",
   "language": "python",
   "name": "python3"
  },
  "language_info": {
   "codemirror_mode": {
    "name": "ipython",
    "version": 3
   },
   "file_extension": ".py",
   "mimetype": "text/x-python",
   "name": "python",
   "nbconvert_exporter": "python",
   "pygments_lexer": "ipython3",
   "version": "3.9.15"
  }
 },
 "nbformat": 4,
 "nbformat_minor": 5
}
