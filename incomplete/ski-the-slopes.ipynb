{
 "cells": [
  {
   "cell_type": "markdown",
   "metadata": {},
   "source": [
    "# Riddler Classic \n",
    "\n",
    "**2021-01-22**: https://fivethirtyeight.com/features/can-you-skillfully-ski-the-slopes/\n",
    "\n",
    "## Can You Skillfully Ski The Slopes?\n",
    "\n",
    "Congratulations, you’ve made it to the finals of the Riddler Ski Federation’s winter championship! There’s just one opponent left to beat, and then the gold medal will be yours.\n",
    "\n",
    "Each of you will complete two runs down the mountain, and the times of your runs will be added together. Whoever skis in the least overall time is the winner. Also, this being the Riddler Ski Federation, you have been presented detailed data on both you and your opponent. You are evenly matched, and both have the same [normal](https://mathworld.wolfram.com/NormalDistribution.html) probability distribution of finishing times for each run. And for both of you, your time on the first run is completely independent of your time on the second run.\n",
    "\n",
    "For the first runs, your opponent goes first. Then, it’s your turn. As you cross the finish line, your coach excitedly signals to you that you were faster than your opponent. Without knowing either exact time, what’s the probability that you will still be ahead after the second run and earn your gold medal?"
   ]
  },
  {
   "cell_type": "code",
   "execution_count": 1,
   "metadata": {},
   "outputs": [],
   "source": [
    "import numpy as np"
   ]
  },
  {
   "cell_type": "code",
   "execution_count": 2,
   "metadata": {},
   "outputs": [
    {
     "data": {
      "text/plain": [
       "array([[110.87699232,  87.78569309],\n",
       "       [ 76.76604525, 100.23174932]])"
      ]
     },
     "execution_count": 2,
     "metadata": {},
     "output_type": "execute_result"
    }
   ],
   "source": [
    "times = np.random.normal(100, 10, size=(2,2))\n",
    "times"
   ]
  },
  {
   "cell_type": "markdown",
   "metadata": {},
   "source": [
    "Let the first column represent the times of the skiers on their first run down the mountain, and the second column represent the second run down the slopes. We know that on the first run I was faster than my opponent, so my row will be the row containing the largest value in the first column.\n",
    "\n",
    "I win after the second run if the row with the best (lowest) time in the first run\n",
    "```python \n",
    "np.argmin(times[:, 0])\n",
    "```\n",
    "\n",
    "is the same row number with the lowest sum of the two runs.\n",
    "\n",
    "```python\n",
    "np.argmin(np.sum(times, axis=1))\n",
    "```\n"
   ]
  },
  {
   "cell_type": "markdown",
   "metadata": {},
   "source": [
    "I'll start writing a simulation with a loop and then later return to convert it into pure vectorized operations with numpy. "
   ]
  },
  {
   "cell_type": "code",
   "execution_count": 3,
   "metadata": {},
   "outputs": [],
   "source": [
    "def i_won_gold_medal(mu=100, stdev=10):\n",
    "    times = np.random.normal(mu, stdev, size=(2,2))\n",
    "    fastest_first_run = np.argmin(times[:, 0])\n",
    "    fastest_overall = np.argmin(np.sum(times, axis=1))\n",
    "    return fastest_first_run == fastest_overall"
   ]
  },
  {
   "cell_type": "code",
   "execution_count": 4,
   "metadata": {},
   "outputs": [
    {
     "data": {
      "text/plain": [
       "0.74965"
      ]
     },
     "execution_count": 4,
     "metadata": {},
     "output_type": "execute_result"
    }
   ],
   "source": [
    "trials = 10**5\n",
    "sum(i_won_gold_medal(mu=100, stdev=10) for _ in range(trials))/trials"
   ]
  },
  {
   "cell_type": "markdown",
   "metadata": {},
   "source": [
    "The probability I win overall, given I had the best time on the first trial, is 75%.\n",
    "\n",
    "*Extra credit:* Over in the snowboarding championship, there are 30 finalists, including you (apparently, you’re a dual-sport threat!). Again, you are the last one to complete the first run, and your coach signals that you are in the lead. What is the probability that you’ll win gold in snowboarding?\n",
    "\n",
    "I'll just modify the original function to take in the number of snowboarders as a parameter."
   ]
  },
  {
   "cell_type": "code",
   "execution_count": 5,
   "metadata": {},
   "outputs": [],
   "source": [
    "def i_won_gold_medal(snowboarders=2, mu=100, stdev=10):\n",
    "    times = np.random.normal(mu, stdev, size=(2,2))\n",
    "    fastest_first_run = np.argmin(times[:, 0])\n",
    "    fastest_overall = np.argmin(np.sum(times, axis=1))\n",
    "    return fastest_first_run == fastest_overall"
   ]
  },
  {
   "cell_type": "code",
   "execution_count": 8,
   "metadata": {},
   "outputs": [
    {
     "data": {
      "text/plain": [
       "0.75128"
      ]
     },
     "execution_count": 8,
     "metadata": {},
     "output_type": "execute_result"
    }
   ],
   "source": [
    "trials = 10**5\n",
    "sum(i_won_gold_medal(snowboarders=30, mu=100, stdev=10) for _ in range(trials))/trials"
   ]
  },
  {
   "cell_type": "markdown",
   "metadata": {},
   "source": [
    "Fascinatingly, I have the same probability of winning as when there was just one competitor."
   ]
  },
  {
   "cell_type": "code",
   "execution_count": null,
   "metadata": {},
   "outputs": [],
   "source": []
  }
 ],
 "metadata": {
  "kernelspec": {
   "display_name": "Python 3",
   "language": "python",
   "name": "python3"
  },
  "language_info": {
   "codemirror_mode": {
    "name": "ipython",
    "version": 3
   },
   "file_extension": ".py",
   "mimetype": "text/x-python",
   "name": "python",
   "nbconvert_exporter": "python",
   "pygments_lexer": "ipython3",
   "version": "3.8.5"
  }
 },
 "nbformat": 4,
 "nbformat_minor": 4
}
