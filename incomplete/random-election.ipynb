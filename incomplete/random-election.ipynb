{
 "cells": [
  {
   "cell_type": "markdown",
   "id": "75b1b83a",
   "metadata": {},
   "source": [
    "# Riddler Classic \n",
    "\n",
    "2021-04-23: https://fivethirtyeight.com/features/can-you-cut-the-perfect-pancake/\n",
    "\n",
    "From Aaron Wilkowski comes a rather enigmatic election:\n",
    "\n",
    "Riddler Nation’s neighbor to the west, Enigmerica, is holding an election between two candidates, A and B. Assume every person in Enigmerica votes randomly and independently, and that the number of voters is very, very large. Moreover, due to health precautions, 20 percent of the population decides to vote early by mail.\n",
    "\n",
    "On election night, the results of the 80 percent who voted on Election Day are reported out. Over the next several days, the remaining 20 percent of the votes are then tallied.\n",
    "\n",
    "What is the probability that the candidate who had fewer votes tallied on election night ultimately wins the race?\n",
    "\n",
    "### My Solution\n",
    "\n",
    "I know that for large population sizes the binomial distribution approximates the normal distribution. But for my first choice I'll write a simulation using the binomial distribution and a population size of 100 billion. I'll run 1 million simulations and see how often, on average, the person who is losing on election night ends up winning the overall campaign."
   ]
  },
  {
   "cell_type": "code",
   "execution_count": 24,
   "id": "79d697da",
   "metadata": {
    "tags": []
   },
   "outputs": [
    {
     "data": {
      "text/plain": [
       "0.1483749307598321"
      ]
     },
     "execution_count": 24,
     "metadata": {},
     "output_type": "execute_result"
    }
   ],
   "source": [
    "import numpy as np\n",
    "\n",
    "simulations = 1_000_000\n",
    "population = 100_000_000_000\n",
    "\n",
    "in_person_voters = int(.80 * population)\n",
    "mail_in_voters = population - in_person_voters\n",
    "\n",
    "election_night_votes = np.random.binomial(in_person_voters, 0.5, simulations)\n",
    "behind_at_first = election_night_votes < (in_person_voters / 2)\n",
    "mail_in_votes = np.random.binomial(mail_in_voters, 0.5, simulations)\n",
    "total_votes = election_night_votes + mail_in_votes\n",
    "won_after_behind_at_first = total_votes[behind_at_first] > (population / 2)\n",
    "np.mean(won_after_behind_at_first)"
   ]
  },
  {
   "cell_type": "code",
   "execution_count": 29,
   "id": "164deabb",
   "metadata": {},
   "outputs": [
    {
     "data": {
      "text/plain": [
       "array([-8.43667269e-04, -1.41064848e+00, -1.08845649e-01, -1.31593093e-01,\n",
       "       -1.68405637e+00,  5.51659387e-01, -6.54365571e-02,  7.63609685e-01,\n",
       "       -3.77893220e-01, -1.06486480e+00])"
      ]
     },
     "execution_count": 29,
     "metadata": {},
     "output_type": "execute_result"
    }
   ],
   "source": [
    "np.random.normal(0, 1, size=10)"
   ]
  },
  {
   "cell_type": "code",
   "execution_count": null,
   "id": "b677ca14",
   "metadata": {},
   "outputs": [],
   "source": []
  }
 ],
 "metadata": {
  "kernelspec": {
   "display_name": "Python 3",
   "language": "python",
   "name": "python3"
  },
  "language_info": {
   "codemirror_mode": {
    "name": "ipython",
    "version": 3
   },
   "file_extension": ".py",
   "mimetype": "text/x-python",
   "name": "python",
   "nbconvert_exporter": "python",
   "pygments_lexer": "ipython3",
   "version": "3.9.2"
  }
 },
 "nbformat": 4,
 "nbformat_minor": 5
}
