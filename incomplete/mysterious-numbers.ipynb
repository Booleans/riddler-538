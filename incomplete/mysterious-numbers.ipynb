{
 "cells": [
  {
   "cell_type": "markdown",
   "metadata": {},
   "source": [
    "# Can You Hunt For The Mysterious Numbers?\n",
    "\n",
    "**2021-01-15:** https://fivethirtyeight.com/features/can-you-hunt-for-the-mysterious-numbers/\n",
    "\n",
    "## Riddler Express\n",
    "\n",
    "From Lucas Jaeger comes a “flute-iful” challenge:\n",
    "\n",
    "You’re a contestant on the hit new game show, “You Bet Your Fife.” On the show, a random real number (i.e., decimals are allowed) is chosen between 0 and 100. Your job is to guess a value that is *less than* this randomly chosen number. Your reward for winning is a novelty fife that is valued precisely at your guess. For example, if the number is 75 and you guess 5, you’d win a \\\\$5 fife, but if you’d guessed 60, you’d win a \\\\$60 fife. Meanwhile, a guess of 80 would win you nothing.\n",
    "\n",
    "What number should you guess to maximize the average value of your fifing winnings?\n",
    "\n",
    "### Solution \n",
    "\n",
    "Because this is a uniform distribution I know that if I select a number, say 28.5, the randomly chosen number will be greater $100 - 28.5 = 71.5\\%$ of the time. So letting $X$ represent my guess, the formula for my expected payout is:\n",
    "\n",
    "$$X \\times (100 - X/100)$$\n",
    "\n",
    "Taking the derivative of this function and setting it equal to 0 yields an optimal guess of 50. I also simulated 10 million numbers drawn from a uniform distribution between 0 and 100 and used an optimizer to find the ideal guess, which was close enough to 50. "
   ]
  },
  {
   "cell_type": "code",
   "execution_count": 10,
   "metadata": {},
   "outputs": [],
   "source": [
    "import numpy as np\n",
    "from scipy.optimize import minimize_scalar\n",
    "from sympy import Symbol\n",
    "from sympy.solvers import solve, solveset"
   ]
  },
  {
   "cell_type": "code",
   "execution_count": 26,
   "metadata": {},
   "outputs": [],
   "source": [
    "chosen_numbers = np.random.uniform(0, 100, size=10**7)\n",
    "\n",
    "def get_neg_average_profit(guess):\n",
    "    global chosen_numbers\n",
    "    profits = np.where(guess < chosen_numbers, guess, 0)\n",
    "    return -np.mean(profits)"
   ]
  },
  {
   "cell_type": "code",
   "execution_count": 27,
   "metadata": {},
   "outputs": [
    {
     "data": {
      "text/plain": [
       "     fun: -25.000965871119675\n",
       " message: 'Solution found.'\n",
       "    nfev: 26\n",
       "  status: 0\n",
       " success: True\n",
       "       x: 50.006862418873965"
      ]
     },
     "execution_count": 27,
     "metadata": {},
     "output_type": "execute_result"
    }
   ],
   "source": [
    "result = minimize_scalar(get_neg_average_profit, bounds=(0, 100), method='bounded')\n",
    "result"
   ]
  },
  {
   "cell_type": "markdown",
   "metadata": {},
   "source": [
    "## Riddler Classic\n",
    "\n",
    "\n",
    "<img src='img/mysterious-numbers.PNG' align='left' style='width: 500px;'>"
   ]
  },
  {
   "cell_type": "code",
   "execution_count": 4,
   "metadata": {},
   "outputs": [],
   "source": [
    "nums = (294, 216, 135, 98, 112, 84, 245, 40)\n",
    "single_digits = tuple(range(1, 10))"
   ]
  },
  {
   "cell_type": "code",
   "execution_count": 10,
   "metadata": {},
   "outputs": [],
   "source": [
    "def get_single_digit_factors(num):\n",
    "    single_digits = tuple(range(1, 10))\n",
    "    return tuple(digit for digit in single_digits if num % digit == 0)"
   ]
  },
  {
   "cell_type": "code",
   "execution_count": 16,
   "metadata": {},
   "outputs": [
    {
     "data": {
      "text/plain": [
       "{294: (1, 2, 3, 6, 7),\n",
       " 216: (1, 2, 3, 4, 6, 8, 9),\n",
       " 135: (1, 3, 5, 9),\n",
       " 98: (1, 2, 7),\n",
       " 112: (1, 2, 4, 7, 8),\n",
       " 84: (1, 2, 3, 4, 6, 7),\n",
       " 245: (1, 5, 7),\n",
       " 40: (1, 2, 4, 5, 8)}"
      ]
     },
     "execution_count": 16,
     "metadata": {},
     "output_type": "execute_result"
    }
   ],
   "source": [
    "{num:get_single_digit_factors(num) for num in nums}"
   ]
  },
  {
   "cell_type": "code",
   "execution_count": 2,
   "metadata": {},
   "outputs": [],
   "source": [
    "n1 = Symbol('n1', integer=True)\n",
    "n2 = Symbol('n2', integer=True)\n",
    "n3 = Symbol('n3', integer=True)"
   ]
  },
  {
   "cell_type": "code",
   "execution_count": 11,
   "metadata": {},
   "outputs": [
    {
     "data": {
      "text/latex": [
       "$\\displaystyle \\emptyset$"
      ],
      "text/plain": [
       "EmptySet"
      ]
     },
     "execution_count": 11,
     "metadata": {},
     "output_type": "execute_result"
    }
   ],
   "source": [
    "solveset(n1*n2*n3 == 294, n1)"
   ]
  },
  {
   "cell_type": "code",
   "execution_count": null,
   "metadata": {},
   "outputs": [],
   "source": []
  }
 ],
 "metadata": {
  "kernelspec": {
   "display_name": "Python 3",
   "language": "python",
   "name": "python3"
  },
  "language_info": {
   "codemirror_mode": {
    "name": "ipython",
    "version": 3
   },
   "file_extension": ".py",
   "mimetype": "text/x-python",
   "name": "python",
   "nbconvert_exporter": "python",
   "pygments_lexer": "ipython3",
   "version": "3.8.5"
  }
 },
 "nbformat": 4,
 "nbformat_minor": 4
}
