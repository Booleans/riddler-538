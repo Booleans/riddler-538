{
 "cells": [
  {
   "cell_type": "markdown",
   "metadata": {},
   "source": [
    "# Can You Track The Delirious Ducks?\n",
    "**2020-01-27**: https://fivethirtyeight.com/features/can-you-track-the-delirious-ducks/\n",
    "\n",
    "# Riddler Classic\n",
    "\n",
    "\n",
    "After a long night of frivolous quackery, two delirious ducks are having a difficult time finding each other in their pond. The pond happens to contain a 3×3 grid of rocks.\n",
    "\n",
    "Every minute, each duck randomly swims, independently of the other duck, from one rock to a neighboring rock in the 3×3 grid — up, down, left or right, but not diagonally. So if a duck is at the middle rock, it will next swim to one of the four side rocks with probability 1/4. From a side rock, it will swim to one of the two adjacent corner rocks or back to the middle rock, each with probability 1/3. And from a corner rock, it will swim to one of the two adjacent side rocks with probability 1/2.\n",
    "\n",
    "If the ducks both start at the middle rock, then on average, how long will it take until they’re at the same rock again? (Of course, there’s a 1/4 chance that they’ll swim in the same direction after the first minute, in which case it would only take one minute for them to be at the same rock again. But it could take much longer, if they happen to keep missing each other.)\n",
    "\n",
    "Extra credit: What if there are three or more ducks? If they all start in the middle rock, on average, how long will it take until they are all at the same rock again?"
   ]
  },
  {
   "cell_type": "code",
   "execution_count": null,
   "metadata": {},
   "outputs": [],
   "source": []
  },
  {
   "cell_type": "markdown",
   "metadata": {},
   "source": [
    "# Riddler Express\n",
    "\n",
    "The Riddler Football League (RFL) playoffs are upon us! As the coach, you’ve devised a new strategy for scoring after a touchdown. Your team will line up 2 yards away from the goal line in such a way that it could attempt either a 1-point conversion or a 2-point conversion. (Unlike other football leagues, the distance is the same for both types of conversion, and you need not announce which you’ll be attempting.) Your opponent can only properly defend against one of those two possibilities, so they’ll have to guess.\n",
    "\n",
    "If you attempt a 1-point conversion and the other team defends against it properly, you’ll score 90 percent of the time. If they don’t defend it properly, you’ll score 100 percent of the time.\n",
    "\n",
    "If you instead attempt a 2-point conversion and the other team defends against it properly, you’ll score 40 percent of the time. If they don’t defend it properly, you’ll score 60 percent of the time.\n",
    "\n",
    "To tell your team which they should attempt, your team’s offensive coordinator will communicate to your team’s captain the probability with which they should attempt each. For example, the coordinator might say: “Go for 1 with a 51 percent chance, and go for 2 with a 49 percent chance.” Using a random number generator, the captain will then ultimately decide to go for 1 point or 2 points. (Naturally, every athlete in the RFL has a random number generator handy.)\n",
    "\n",
    "However, given all the spying that occurs in the RFL these days, you can assume that the offensive coordinator’s message will also be heard by your opponent — that means the defense knows the exact probability with which you’ll attempt either conversion. Your opponent also knows the probability of you scoring in each of the four scenarios listed above.\n",
    "\n",
    "With all that said, what strategy will maximize the average number of points you’ll score (i.e., how often should your team go for 1 or 2)? What should your opponent’s defensive strategy be? How many points will you score, on average, after each touchdown?"
   ]
  }
 ],
 "metadata": {
  "kernelspec": {
   "display_name": "Python 3",
   "language": "python",
   "name": "python3"
  },
  "language_info": {
   "codemirror_mode": {
    "name": "ipython",
    "version": 3
   },
   "file_extension": ".py",
   "mimetype": "text/x-python",
   "name": "python",
   "nbconvert_exporter": "python",
   "pygments_lexer": "ipython3",
   "version": "3.7.4"
  }
 },
 "nbformat": 4,
 "nbformat_minor": 4
}
