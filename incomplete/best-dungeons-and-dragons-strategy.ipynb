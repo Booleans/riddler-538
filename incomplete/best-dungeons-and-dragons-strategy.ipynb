{
 "cells": [
  {
   "cell_type": "markdown",
   "metadata": {},
   "source": [
    "# Riddler Classic \n",
    "\n",
    "For proper formatting I recommend viewing this notebook using [nbviewer](https://nbviewer.jupyter.org/github/Booleans/riddler-538/blob/master/best-dungeons-and-dragons-strategy.ipynb).\n",
    "\n",
    "## Can You Find The Best Dungeons & Dragons Strategy?\n",
    "\n",
    "**2020-05-15**: https://fivethirtyeight.com/features/can-you-find-the-best-dungeons-dragons-strategy/\n",
    "\n",
    "The [fifth edition of Dungeons & Dragons](https://5thsrd.org/rules/advantage_and_disadvantage/) introduced a system of “advantage and disadvantage.” When you roll a die “with advantage,” you roll the die twice and keep the higher result. Rolling “with disadvantage” is similar, except you keep the lower result instead. The rules further specify that when a player rolls with both advantage and disadvantage, they cancel out, and the player rolls a single die. Yawn!\n",
    "\n",
    "There are two other, more mathematically interesting ways that advantage and disadvantage could be combined. First, you could have “advantage of disadvantage,” meaning you roll twice with disadvantage and then keep the higher result. Or, you could have “disadvantage of advantage,” meaning you roll twice with advantage and then keep the lower result. With a fair 20-sided die, which situation produces the highest expected roll: advantage of disadvantage, disadvantage of advantage or rolling a single die?\n",
    "\n",
    "*Extra Credit:* Instead of maximizing your expected roll, suppose you need to roll N or better with your 20-sided die. For each value of N, is it better to use advantage of disadvantage, disadvantage of advantage or rolling a single die?\n",
    "\n",
    "### Simulation\n",
    "\n",
    "If we were trying to calculate the expected maximum of two continuous numbers drawn from a uniform distribution would could've used a `Beta(2,1)` distribution. Since these are discrete let's just simulate. "
   ]
  },
  {
   "cell_type": "code",
   "execution_count": 1,
   "metadata": {},
   "outputs": [
    {
     "data": {
      "text/plain": [
       "(11.1671957, 9.8318046, 10.49953735)"
      ]
     },
     "execution_count": 1,
     "metadata": {},
     "output_type": "execute_result"
    }
   ],
   "source": [
    "import numpy as np\n",
    "\n",
    "n_sims = 10**7\n",
    "\n",
    "rolls = np.random.randint(1, 21, size=(n_sims, 4))\n",
    "\n",
    "advantage_1 = np.max(rolls[:,:2], axis=1)\n",
    "advantage_2 = np.max(rolls[:,2:], axis=1)\n",
    "\n",
    "disadvantage_of_advantage = np.minimum(advantage_1, advantage_2)\n",
    "\n",
    "disadvantage_1 = np.min(rolls[:,:2], axis=1)\n",
    "disadvantage_2 = np.min(rolls[:,2:], axis=1)\n",
    "\n",
    "advantage_of_disadvantage = np.maximum(disadvantage_1, disadvantage_2)\n",
    "\n",
    "np.mean(disadvantage_of_advantage), np.mean(advantage_of_disadvantage), np.mean(rolls)"
   ]
  },
  {
   "cell_type": "code",
   "execution_count": null,
   "metadata": {},
   "outputs": [],
   "source": []
  },
  {
   "cell_type": "code",
   "execution_count": 8,
   "metadata": {},
   "outputs": [
    {
     "ename": "ValueError",
     "evalue": "operands could not be broadcast together with shapes (5,) (20,) ",
     "output_type": "error",
     "traceback": [
      "\u001b[0;31m---------------------------------------------------------------------------\u001b[0m",
      "\u001b[0;31mValueError\u001b[0m                                Traceback (most recent call last)",
      "\u001b[0;32m<ipython-input-8-a2d595a7690f>\u001b[0m in \u001b[0;36m<module>\u001b[0;34m\u001b[0m\n\u001b[1;32m      4\u001b[0m \u001b[0mprobs\u001b[0m \u001b[0;34m=\u001b[0m \u001b[0mnp\u001b[0m\u001b[0;34m.\u001b[0m\u001b[0munique\u001b[0m\u001b[0;34m(\u001b[0m\u001b[0mminmaxes\u001b[0m\u001b[0;34m,\u001b[0m \u001b[0mreturn_counts\u001b[0m\u001b[0;34m=\u001b[0m\u001b[0;32mTrue\u001b[0m\u001b[0;34m)\u001b[0m\u001b[0;34m[\u001b[0m\u001b[0;36m1\u001b[0m\u001b[0;34m]\u001b[0m\u001b[0;34m.\u001b[0m\u001b[0mastype\u001b[0m\u001b[0;34m(\u001b[0m\u001b[0mfloat\u001b[0m\u001b[0;34m)\u001b[0m\u001b[0;34m\u001b[0m\u001b[0;34m\u001b[0m\u001b[0m\n\u001b[1;32m      5\u001b[0m \u001b[0mprobs\u001b[0m \u001b[0;34m/=\u001b[0m \u001b[0mprobs\u001b[0m\u001b[0;34m.\u001b[0m\u001b[0msum\u001b[0m\u001b[0;34m(\u001b[0m\u001b[0;34m)\u001b[0m\u001b[0;34m\u001b[0m\u001b[0;34m\u001b[0m\u001b[0m\n\u001b[0;32m----> 6\u001b[0;31m \u001b[0;34m(\u001b[0m\u001b[0mprobs\u001b[0m \u001b[0;34m*\u001b[0m \u001b[0mnp\u001b[0m\u001b[0;34m.\u001b[0m\u001b[0marange\u001b[0m\u001b[0;34m(\u001b[0m\u001b[0;36m1\u001b[0m\u001b[0;34m,\u001b[0m \u001b[0;36m21\u001b[0m\u001b[0;34m)\u001b[0m\u001b[0;34m)\u001b[0m\u001b[0;34m.\u001b[0m\u001b[0msum\u001b[0m\u001b[0;34m(\u001b[0m\u001b[0;34m)\u001b[0m\u001b[0;34m\u001b[0m\u001b[0;34m\u001b[0m\u001b[0m\n\u001b[0m",
      "\u001b[0;31mValueError\u001b[0m: operands could not be broadcast together with shapes (5,) (20,) "
     ]
    }
   ],
   "source": [
    "maxes = np.maximum(np.arange(n_sides),\n",
    "                   np.arange(n_sides)[:, None])\n",
    "minmaxes = np.minimum(maxes, maxes[..., None, None])\n",
    "probs = np.unique(minmaxes, return_counts=True)[1].astype(float)\n",
    "probs /= probs.sum()\n",
    "(probs * np.arange(1, 21)).sum()"
   ]
  },
  {
   "cell_type": "code",
   "execution_count": 24,
   "metadata": {},
   "outputs": [],
   "source": [
    "n_sides = 5"
   ]
  },
  {
   "cell_type": "code",
   "execution_count": 25,
   "metadata": {},
   "outputs": [
    {
     "data": {
      "text/plain": [
       "array([[1, 2, 3, 4, 5],\n",
       "       [2, 2, 3, 4, 5],\n",
       "       [3, 3, 3, 4, 5],\n",
       "       [4, 4, 4, 4, 5],\n",
       "       [5, 5, 5, 5, 5]])"
      ]
     },
     "execution_count": 25,
     "metadata": {},
     "output_type": "execute_result"
    }
   ],
   "source": [
    "np.maximum(np.arange(1, n_sides+1).reshape(-1, 1), np.arange(1, n_sides+1))"
   ]
  },
  {
   "cell_type": "code",
   "execution_count": null,
   "metadata": {},
   "outputs": [],
   "source": []
  }
 ],
 "metadata": {
  "kernelspec": {
   "display_name": "Python 3",
   "language": "python",
   "name": "python3"
  },
  "language_info": {
   "codemirror_mode": {
    "name": "ipython",
    "version": 3
   },
   "file_extension": ".py",
   "mimetype": "text/x-python",
   "name": "python",
   "nbconvert_exporter": "python",
   "pygments_lexer": "ipython3",
   "version": "3.7.4"
  }
 },
 "nbformat": 4,
 "nbformat_minor": 4
}
