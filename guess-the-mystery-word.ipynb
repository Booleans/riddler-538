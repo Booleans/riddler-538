{
 "cells": [
  {
   "cell_type": "markdown",
   "metadata": {},
   "source": [
    "# Riddler Classic \n",
    "**2021-01-29**: https://fivethirtyeight.com/features/can-you-guess-the-mystery-word/\n",
    "\n",
    "You are a contestant on the game show [Lingo](https://en.wikipedia.org/wiki/Lingo_(American_game_show)), where your objective is to determine a five-letter mystery word. You are told this word’s first letter, after which you have five attempts to guess the word. You can guess any five-letter word, even one that has a different first letter.\n",
    "\n",
    "After each of your guesses, you are told which letters of your guess are also in the mystery word and whether any of the letters are in the correct position. In the example below, T is in the correct position (remember, the first letter is provided to you), while A and C are in the mystery word but not in the correct positions.\n",
    "\n",
    "<img src='img/mystery-word-1.png' align='center' style='width: 500px;'>\n",
    "\n",
    "For this example, here’s how you might have figured out the mystery word (TACOS) using all five guesses:\n",
    "\n",
    "<img src='img/mystery-word-2.png' align='center' style='width: 500px;'>\n",
    "\n",
    "The mystery word and guesses can contain multiple instances of a letter. For example, the mystery word MISOS contains one O, so a guess with more than one O (like MOSSO) will only have the first O marked as correct (but in this case, in the wrong position).\n",
    "\n",
    "<img src='img/mystery-word-3.png' align='center' style='width: 500px;'>\n",
    "\n",
    "\n",
    "As a contestant, your plan is to make a mockery of the game show by adopting a bold strategy: No matter what, before you are even told what the first letter of the mystery word is, you have decided what your first four guesses will be. Then, with your fifth guess, you will use the results of your first four guesses (and your encyclopedic knowledge of five-letter words!) to determine all remaining possibilities for the mystery word. If multiple mystery words are still possible, you will pick one of these at random.\n",
    "\n",
    "Which four five-letter words would you choose to maximize your chances of victory? Assume that the mystery word is selected randomly from [this word list](https://norvig.com/ngrams/enable1.txt), which is also the list your guesses must be chosen from.\n",
    "\n",
    "*Extra credit:* For the four five-letter words you chose, what are your chances of victory?"
   ]
  },
  {
   "cell_type": "code",
   "execution_count": 1,
   "metadata": {},
   "outputs": [],
   "source": [
    "import numpy as np"
   ]
  },
  {
   "cell_type": "markdown",
   "metadata": {},
   "source": [
    "Let's read in the data. We can ignore any words that aren't exactly 5 letters long."
   ]
  },
  {
   "cell_type": "code",
   "execution_count": 2,
   "metadata": {},
   "outputs": [],
   "source": [
    "with open('data/word-list.txt') as f:\n",
    "    WORDS = tuple(word.strip().upper() for word in f if len(word.strip()) == 5)"
   ]
  },
  {
   "cell_type": "markdown",
   "metadata": {},
   "source": [
    "I'll store all the words in a `numpy` array with five columns, where each column stores one letter of a words. This will allow me to easily select words with matching characters in certain positions."
   ]
  },
  {
   "cell_type": "code",
   "execution_count": 4,
   "metadata": {},
   "outputs": [
    {
     "data": {
      "text/plain": [
       "array([['A', 'A', 'H', 'E', 'D'],\n",
       "       ['A', 'A', 'L', 'I', 'I'],\n",
       "       ['A', 'A', 'R', 'G', 'H'],\n",
       "       ...,\n",
       "       ['Z', 'O', 'R', 'I', 'S'],\n",
       "       ['Z', 'O', 'W', 'I', 'E'],\n",
       "       ['Z', 'Y', 'M', 'E', 'S']], dtype='<U1')"
      ]
     },
     "execution_count": 4,
     "metadata": {},
     "output_type": "execute_result"
    }
   ],
   "source": [
    "words = np.array([tuple(word) for word in WORDS])\n",
    "words"
   ]
  },
  {
   "cell_type": "code",
   "execution_count": 5,
   "metadata": {},
   "outputs": [],
   "source": [
    "words_five_characters = tuple(word for word in WORDS if len(set(word)) == 5)"
   ]
  },
  {
   "cell_type": "code",
   "execution_count": 6,
   "metadata": {},
   "outputs": [
    {
     "data": {
      "text/plain": [
       "array([ True,  True,  True, ..., False, False, False])"
      ]
     },
     "execution_count": 6,
     "metadata": {},
     "output_type": "execute_result"
    }
   ],
   "source": [
    "words[:, 1] == 'A'"
   ]
  },
  {
   "cell_type": "code",
   "execution_count": 7,
   "metadata": {},
   "outputs": [
    {
     "data": {
      "text/plain": [
       "8636"
      ]
     },
     "execution_count": 7,
     "metadata": {},
     "output_type": "execute_result"
    }
   ],
   "source": [
    "len(words)"
   ]
  },
  {
   "cell_type": "code",
   "execution_count": 16,
   "metadata": {},
   "outputs": [
    {
     "data": {
      "text/plain": [
       "array(['H', 'E', 'L', 'P', 'S'], dtype='<U1')"
      ]
     },
     "execution_count": 16,
     "metadata": {},
     "output_type": "execute_result"
    }
   ],
   "source": [
    "target = np.array(tuple('HYPOS'))\n",
    "guess = np.array(tuple('HELPS'))\n",
    "guess"
   ]
  },
  {
   "cell_type": "code",
   "execution_count": 30,
   "metadata": {},
   "outputs": [
    {
     "data": {
      "text/plain": [
       "array(['H', 'Y', 'P', 'O', 'S'], dtype='<U1')"
      ]
     },
     "execution_count": 30,
     "metadata": {},
     "output_type": "execute_result"
    }
   ],
   "source": [
    "target"
   ]
  },
  {
   "cell_type": "code",
   "execution_count": 40,
   "metadata": {},
   "outputs": [
    {
     "data": {
      "text/plain": [
       "array(['H', None, None, None, 'S'], dtype=object)"
      ]
     },
     "execution_count": 40,
     "metadata": {},
     "output_type": "execute_result"
    }
   ],
   "source": [
    "position_match = (guess == target)\n",
    "np.where(position_match, guess, None)"
   ]
  },
  {
   "cell_type": "code",
   "execution_count": 41,
   "metadata": {},
   "outputs": [
    {
     "data": {
      "text/plain": [
       "array([['H', 'A', 'A', 'F', 'S'],\n",
       "       ['H', 'A', 'A', 'R', 'S'],\n",
       "       ['H', 'A', 'B', 'U', 'S'],\n",
       "       ['H', 'A', 'C', 'K', 'S'],\n",
       "       ['H', 'A', 'D', 'E', 'S'],\n",
       "       ['H', 'A', 'E', 'M', 'S'],\n",
       "       ['H', 'A', 'E', 'T', 'S'],\n",
       "       ['H', 'A', 'F', 'I', 'S'],\n",
       "       ['H', 'A', 'F', 'T', 'S'],\n",
       "       ['H', 'A', 'H', 'A', 'S'],\n",
       "       ['H', 'A', 'I', 'K', 'S'],\n",
       "       ['H', 'A', 'I', 'L', 'S'],\n",
       "       ['H', 'A', 'I', 'R', 'S'],\n",
       "       ['H', 'A', 'J', 'E', 'S'],\n",
       "       ['H', 'A', 'J', 'I', 'S'],\n",
       "       ['H', 'A', 'K', 'E', 'S'],\n",
       "       ['H', 'A', 'L', 'E', 'S'],\n",
       "       ['H', 'A', 'L', 'L', 'S'],\n",
       "       ['H', 'A', 'L', 'M', 'S'],\n",
       "       ['H', 'A', 'L', 'O', 'S'],\n",
       "       ['H', 'A', 'L', 'T', 'S'],\n",
       "       ['H', 'A', 'M', 'E', 'S'],\n",
       "       ['H', 'A', 'N', 'D', 'S'],\n",
       "       ['H', 'A', 'N', 'G', 'S'],\n",
       "       ['H', 'A', 'N', 'K', 'S'],\n",
       "       ['H', 'A', 'N', 'T', 'S'],\n",
       "       ['H', 'A', 'R', 'D', 'S'],\n",
       "       ['H', 'A', 'R', 'E', 'S'],\n",
       "       ['H', 'A', 'R', 'K', 'S'],\n",
       "       ['H', 'A', 'R', 'L', 'S'],\n",
       "       ['H', 'A', 'R', 'M', 'S'],\n",
       "       ['H', 'A', 'R', 'P', 'S'],\n",
       "       ['H', 'A', 'R', 'T', 'S'],\n",
       "       ['H', 'A', 'S', 'P', 'S'],\n",
       "       ['H', 'A', 'T', 'E', 'S'],\n",
       "       ['H', 'A', 'U', 'L', 'S'],\n",
       "       ['H', 'A', 'V', 'E', 'S'],\n",
       "       ['H', 'A', 'W', 'K', 'S'],\n",
       "       ['H', 'A', 'Z', 'E', 'S'],\n",
       "       ['H', 'E', 'A', 'D', 'S'],\n",
       "       ['H', 'E', 'A', 'L', 'S'],\n",
       "       ['H', 'E', 'A', 'P', 'S'],\n",
       "       ['H', 'E', 'A', 'R', 'S'],\n",
       "       ['H', 'E', 'A', 'T', 'S'],\n",
       "       ['H', 'E', 'B', 'E', 'S'],\n",
       "       ['H', 'E', 'C', 'K', 'S'],\n",
       "       ['H', 'E', 'E', 'D', 'S'],\n",
       "       ['H', 'E', 'E', 'L', 'S'],\n",
       "       ['H', 'E', 'F', 'T', 'S'],\n",
       "       ['H', 'E', 'I', 'L', 'S'],\n",
       "       ['H', 'E', 'I', 'R', 'S'],\n",
       "       ['H', 'E', 'L', 'L', 'S'],\n",
       "       ['H', 'E', 'L', 'M', 'S'],\n",
       "       ['H', 'E', 'L', 'O', 'S'],\n",
       "       ['H', 'E', 'L', 'P', 'S'],\n",
       "       ['H', 'E', 'M', 'E', 'S'],\n",
       "       ['H', 'E', 'M', 'P', 'S'],\n",
       "       ['H', 'E', 'N', 'T', 'S'],\n",
       "       ['H', 'E', 'R', 'B', 'S'],\n",
       "       ['H', 'E', 'R', 'D', 'S'],\n",
       "       ['H', 'E', 'R', 'E', 'S'],\n",
       "       ['H', 'E', 'R', 'L', 'S'],\n",
       "       ['H', 'E', 'R', 'M', 'S'],\n",
       "       ['H', 'E', 'R', 'N', 'S'],\n",
       "       ['H', 'E', 'R', 'O', 'S'],\n",
       "       ['H', 'E', 'S', 'T', 'S'],\n",
       "       ['H', 'E', 'T', 'H', 'S'],\n",
       "       ['H', 'E', 'X', 'E', 'S'],\n",
       "       ['H', 'I', 'C', 'K', 'S'],\n",
       "       ['H', 'I', 'D', 'E', 'S'],\n",
       "       ['H', 'I', 'G', 'H', 'S'],\n",
       "       ['H', 'I', 'K', 'E', 'S'],\n",
       "       ['H', 'I', 'L', 'L', 'S'],\n",
       "       ['H', 'I', 'L', 'T', 'S'],\n",
       "       ['H', 'I', 'L', 'U', 'S'],\n",
       "       ['H', 'I', 'N', 'D', 'S'],\n",
       "       ['H', 'I', 'N', 'T', 'S'],\n",
       "       ['H', 'I', 'R', 'E', 'S'],\n",
       "       ['H', 'I', 'S', 'T', 'S'],\n",
       "       ['H', 'I', 'V', 'E', 'S'],\n",
       "       ['H', 'O', 'A', 'R', 'S'],\n",
       "       ['H', 'O', 'B', 'O', 'S'],\n",
       "       ['H', 'O', 'C', 'K', 'S'],\n",
       "       ['H', 'O', 'C', 'U', 'S'],\n",
       "       ['H', 'O', 'E', 'R', 'S'],\n",
       "       ['H', 'O', 'G', 'G', 'S'],\n",
       "       ['H', 'O', 'K', 'E', 'S'],\n",
       "       ['H', 'O', 'L', 'D', 'S'],\n",
       "       ['H', 'O', 'L', 'E', 'S'],\n",
       "       ['H', 'O', 'L', 'K', 'S'],\n",
       "       ['H', 'O', 'L', 'M', 'S'],\n",
       "       ['H', 'O', 'L', 'T', 'S'],\n",
       "       ['H', 'O', 'M', 'E', 'S'],\n",
       "       ['H', 'O', 'M', 'O', 'S'],\n",
       "       ['H', 'O', 'N', 'E', 'S'],\n",
       "       ['H', 'O', 'N', 'G', 'S'],\n",
       "       ['H', 'O', 'N', 'K', 'S'],\n",
       "       ['H', 'O', 'O', 'D', 'S'],\n",
       "       ['H', 'O', 'O', 'F', 'S'],\n",
       "       ['H', 'O', 'O', 'K', 'S'],\n",
       "       ['H', 'O', 'O', 'P', 'S'],\n",
       "       ['H', 'O', 'O', 'T', 'S'],\n",
       "       ['H', 'O', 'P', 'E', 'S'],\n",
       "       ['H', 'O', 'R', 'A', 'S'],\n",
       "       ['H', 'O', 'R', 'N', 'S'],\n",
       "       ['H', 'O', 'S', 'E', 'S'],\n",
       "       ['H', 'O', 'S', 'T', 'S'],\n",
       "       ['H', 'O', 'U', 'R', 'S'],\n",
       "       ['H', 'O', 'W', 'E', 'S'],\n",
       "       ['H', 'O', 'W', 'F', 'S'],\n",
       "       ['H', 'O', 'W', 'K', 'S'],\n",
       "       ['H', 'O', 'W', 'L', 'S'],\n",
       "       ['H', 'O', 'Y', 'A', 'S'],\n",
       "       ['H', 'U', 'C', 'K', 'S'],\n",
       "       ['H', 'U', 'F', 'F', 'S'],\n",
       "       ['H', 'U', 'L', 'A', 'S'],\n",
       "       ['H', 'U', 'L', 'K', 'S'],\n",
       "       ['H', 'U', 'L', 'L', 'S'],\n",
       "       ['H', 'U', 'M', 'P', 'S'],\n",
       "       ['H', 'U', 'M', 'U', 'S'],\n",
       "       ['H', 'U', 'N', 'K', 'S'],\n",
       "       ['H', 'U', 'N', 'T', 'S'],\n",
       "       ['H', 'U', 'R', 'D', 'S'],\n",
       "       ['H', 'U', 'R', 'L', 'S'],\n",
       "       ['H', 'U', 'R', 'T', 'S'],\n",
       "       ['H', 'U', 'S', 'K', 'S'],\n",
       "       ['H', 'Y', 'L', 'A', 'S'],\n",
       "       ['H', 'Y', 'M', 'N', 'S'],\n",
       "       ['H', 'Y', 'P', 'E', 'S'],\n",
       "       ['H', 'Y', 'P', 'O', 'S']], dtype='<U1')"
      ]
     },
     "execution_count": 41,
     "metadata": {},
     "output_type": "execute_result"
    }
   ],
   "source": [
    "potential_words = words[np.all(words[:, position_match] == guess[position_match], axis=1)]\n",
    "potential_words"
   ]
  },
  {
   "cell_type": "code",
   "execution_count": 37,
   "metadata": {},
   "outputs": [],
   "source": [
    "letters_in_word = np.isin(guess, target)"
   ]
  },
  {
   "cell_type": "code",
   "execution_count": 45,
   "metadata": {},
   "outputs": [
    {
     "data": {
      "text/plain": [
       "array(['P'], dtype='<U1')"
      ]
     },
     "execution_count": 45,
     "metadata": {},
     "output_type": "execute_result"
    }
   ],
   "source": [
    "letters_in_incorrect_position = guess[np.logical_xor(letters_in_word, position_match)]\n",
    "letters_in_incorrect_position"
   ]
  },
  {
   "cell_type": "code",
   "execution_count": 50,
   "metadata": {},
   "outputs": [
    {
     "data": {
      "text/plain": [
       "array([False, False, False,  True, False])"
      ]
     },
     "execution_count": 50,
     "metadata": {},
     "output_type": "execute_result"
    }
   ],
   "source": [
    "np.logical_xor(letters_in_word, position_match)"
   ]
  },
  {
   "cell_type": "code",
   "execution_count": null,
   "metadata": {},
   "outputs": [],
   "source": []
  }
 ],
 "metadata": {
  "kernelspec": {
   "display_name": "Python 3",
   "language": "python",
   "name": "python3"
  },
  "language_info": {
   "codemirror_mode": {
    "name": "ipython",
    "version": 3
   },
   "file_extension": ".py",
   "mimetype": "text/x-python",
   "name": "python",
   "nbconvert_exporter": "python",
   "pygments_lexer": "ipython3",
   "version": "3.9.2"
  }
 },
 "nbformat": 4,
 "nbformat_minor": 4
}
