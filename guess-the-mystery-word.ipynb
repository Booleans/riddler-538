{
 "cells": [
  {
   "cell_type": "markdown",
   "metadata": {},
   "source": [
    "# Riddler Classic \n",
    "**2021-01-29**: https://fivethirtyeight.com/features/can-you-guess-the-mystery-word/\n",
    "\n",
    "You are a contestant on the game show [Lingo](https://en.wikipedia.org/wiki/Lingo_(American_game_show)), where your objective is to determine a five-letter mystery word. You are told this word’s first letter, after which you have five attempts to guess the word. You can guess any five-letter word, even one that has a different first letter.\n",
    "\n",
    "After each of your guesses, you are told which letters of your guess are also in the mystery word and whether any of the letters are in the correct position. In the example below, T is in the correct position (remember, the first letter is provided to you), while A and C are in the mystery word but not in the correct positions.\n",
    "\n",
    "<img src='img/mystery-word-1.png' align='center' style='width: 500px;'>\n",
    "\n",
    "For this example, here’s how you might have figured out the mystery word (TACOS) using all five guesses:\n",
    "\n",
    "<img src='img/mystery-word-2.png' align='center' style='width: 500px;'>\n",
    "\n",
    "The mystery word and guesses can contain multiple instances of a letter. For example, the mystery word MISOS contains one O, so a guess with more than one O (like MOSSO) will only have the first O marked as correct (but in this case, in the wrong position).\n",
    "\n",
    "<img src='img/mystery-word-3.png' align='center' style='width: 500px;'>\n",
    "\n",
    "\n",
    "As a contestant, your plan is to make a mockery of the game show by adopting a bold strategy: No matter what, before you are even told what the first letter of the mystery word is, you have decided what your first four guesses will be. Then, with your fifth guess, you will use the results of your first four guesses (and your encyclopedic knowledge of five-letter words!) to determine all remaining possibilities for the mystery word. If multiple mystery words are still possible, you will pick one of these at random.\n",
    "\n",
    "Which four five-letter words would you choose to maximize your chances of victory? Assume that the mystery word is selected randomly from [this word list](https://norvig.com/ngrams/enable1.txt), which is also the list your guesses must be chosen from.\n",
    "\n",
    "*Extra credit:* For the four five-letter words you chose, what are your chances of victory?"
   ]
  },
  {
   "cell_type": "code",
   "execution_count": 2,
   "metadata": {},
   "outputs": [],
   "source": [
    "import numpy as np"
   ]
  },
  {
   "cell_type": "markdown",
   "metadata": {},
   "source": [
    "Let's read in the data. We can ignore any words that aren't exactly 5 letters long."
   ]
  },
  {
   "cell_type": "code",
   "execution_count": 23,
   "metadata": {},
   "outputs": [],
   "source": [
    "with open('data/word-list.txt') as f:\n",
    "    WORDS = tuple(word.strip().upper() for word in f if len(word.strip()) == 5)"
   ]
  },
  {
   "cell_type": "markdown",
   "metadata": {},
   "source": [
    "I'll store all the words in a `numpy` array with five columns, where each column stores one letter of a words. This will allow me to easily select words with matching characters in certain positions."
   ]
  },
  {
   "cell_type": "code",
   "execution_count": 25,
   "metadata": {},
   "outputs": [
    {
     "data": {
      "text/plain": [
       "array([['A', 'A', 'H', 'E', 'D'],\n",
       "       ['A', 'A', 'L', 'I', 'I'],\n",
       "       ['A', 'A', 'R', 'G', 'H'],\n",
       "       ...,\n",
       "       ['Z', 'O', 'R', 'I', 'S'],\n",
       "       ['Z', 'O', 'W', 'I', 'E'],\n",
       "       ['Z', 'Y', 'M', 'E', 'S']], dtype='<U1')"
      ]
     },
     "execution_count": 25,
     "metadata": {},
     "output_type": "execute_result"
    }
   ],
   "source": [
    "words = np.array([tuple(word) for word in words])\n",
    "words"
   ]
  },
  {
   "cell_type": "code",
   "execution_count": 28,
   "metadata": {},
   "outputs": [],
   "source": [
    "words_five_characters = tuple(word for word in WORDS if len(set(word)) == 5)"
   ]
  },
  {
   "cell_type": "code",
   "execution_count": 29,
   "metadata": {},
   "outputs": [
    {
     "data": {
      "text/plain": [
       "array([ True,  True,  True, ..., False, False, False])"
      ]
     },
     "execution_count": 29,
     "metadata": {},
     "output_type": "execute_result"
    }
   ],
   "source": [
    "words[:, 1] == 'A'"
   ]
  },
  {
   "cell_type": "code",
   "execution_count": 31,
   "metadata": {},
   "outputs": [
    {
     "data": {
      "text/plain": [
       "8636"
      ]
     },
     "execution_count": 31,
     "metadata": {},
     "output_type": "execute_result"
    }
   ],
   "source": [
    "len(words)"
   ]
  },
  {
   "cell_type": "code",
   "execution_count": null,
   "metadata": {},
   "outputs": [],
   "source": []
  }
 ],
 "metadata": {
  "kernelspec": {
   "display_name": "Python 3",
   "language": "python",
   "name": "python3"
  },
  "language_info": {
   "codemirror_mode": {
    "name": "ipython",
    "version": 3
   },
   "file_extension": ".py",
   "mimetype": "text/x-python",
   "name": "python",
   "nbconvert_exporter": "python",
   "pygments_lexer": "ipython3",
   "version": "3.9.2"
  }
 },
 "nbformat": 4,
 "nbformat_minor": 4
}
