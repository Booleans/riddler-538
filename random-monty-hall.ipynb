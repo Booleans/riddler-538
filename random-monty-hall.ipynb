{
 "cells": [
  {
   "cell_type": "markdown",
   "metadata": {},
   "source": [
    "# Can You Beat The GOAT Monty Hall Problem?\n",
    "**2020-04-24**: https://fivethirtyeight.com/features/can-you-beat-the-goat-monty-hall-problem/\n",
    "\n",
    "# Riddler Classic\n",
    "\n",
    "The [Monty Hall problem](https://www.scientificamerican.com/article/how-randomness-rules-our-world/) is a classic case of conditional probability. In the original problem, there are three doors, two of which have goats behind them, while the third has a prize. You pick one of the doors, and then Monty (who knows in advance which door has the prize) will always open another door, revealing a goat behind it. It’s then up to you to choose whether to stay with your initial guess or to switch to the remaining door. Your best bet is to switch doors, in which case you will win the prize two-thirds of the time.\n",
    "\n",
    "Now suppose Monty changes the rules. First, he will randomly pick a number of goats to put behind the doors: zero, one, two or three, each with a 25 percent chance. After the number of goats is chosen, they are assigned to the doors at random, and each door has at most one goat. Any doors that don’t have a goat behind them have an identical prize behind them.\n",
    "\n",
    "At this point, you choose a door. If Monty is able to open another door, revealing a goat, he will do so. But if no other doors have goats behind them, he will tell you that is the case.\n",
    "\n",
    "It just so happens that when you play, Monty is able to open another door, revealing a goat behind it. Should you stay with your original selection or switch? And what are your chances of winning the prize?"
   ]
  },
  {
   "cell_type": "markdown",
   "metadata": {},
   "source": [
    "### Solution\n",
    "\n",
    "Your ideal strategy is to switch doors, giving you a `50%` probability of winning.\n",
    "\n",
    "The fact that a goat was revealed means our situation includes 1, 2, or 3 goats total. If only one goat was chosen then we have a 100% probability of winning the game, as the one has already been revealed and is therefore not behind our door nor behind the closed door. If there are actually two goats, this is the same as the original Monty Hall problem and we should swtich, yielding a 2/3 probability of winning. However, if there are three goats then each door has a goat and we are guaranteed to lose regardless of our action.\n",
    "\n",
    "We need to calculate the likelihood of each of these possibilities, given the fact we know a door was opened. If 2 or 3 goats were chosen, then the likelihood of a door being revealed is 100%. There is no possible configuration of 2 or more goats that will prevent a door from being revealed. However, the likelihood of a door being opened with only 1 goat chosen is 2/3. This is because with 1 goat there is a 1/3 chance that the goat would be behind our selected door, meaning no goat was revealed.\n",
    "\n",
    "Let's normalize these likelihoods so they sum to 1, giving us the probabilities.\n",
    "\n",
    "`1/3 + 1 + 1 = 8/3`\n",
    "\n",
    "`P(1 Goat) = 2/3 / 8/3 = 1/4`  \n",
    "`P(2 Goats) = 1 / 8/3 = 3/8`  \n",
    "`P(3 Goats) = 1 / 8/3 = 3/8`\n",
    "\n",
    "Therefore, our best strategy is to always switch, with an overall probability of victory of `1/4 * 1 + 3/8 * 2/3 + 3/8 * 0 = 1/2`."
   ]
  },
  {
   "cell_type": "markdown",
   "metadata": {},
   "source": [
    "#### Simulation Validation"
   ]
  },
  {
   "cell_type": "code",
   "execution_count": 1,
   "metadata": {},
   "outputs": [],
   "source": [
    "import numpy as np\n",
    "\n",
    "n_sims = 10**7\n",
    "# Start the simulation with an empty array.\n",
    "simulations = np.zeros(shape=(n_sims,4))\n",
    "# Generate the number of goats.\n",
    "simulations[:, 0] = np.random.randint(0, 4, size=n_sims)\n",
    "# Calculate the probability that our inital door has a goat behind it.\n",
    "simulations[:, 1] = simulations[:, 0]/3\n",
    "# Calculate if there is a goat behind our inital door.\n",
    "simulations[:, 2] = np.random.binomial(1, simulations[:, 1])\n",
    "# We are only interested in games where there is a goat behind a door that isn't ours.\n",
    "simulations = simulations[simulations[:, 0] > simulations[:, 2]]\n",
    "# Now, is there a goat behind the remaining door. \n",
    "simulations[:, 3] = simulations[:, 0] - simulations[:, 2] - 1"
   ]
  },
  {
   "cell_type": "code",
   "execution_count": 2,
   "metadata": {},
   "outputs": [
    {
     "data": {
      "text/plain": [
       "(0.3750507397773313, 0.49986976728005256)"
      ]
     },
     "execution_count": 2,
     "metadata": {},
     "output_type": "execute_result"
    }
   ],
   "source": [
    "# Print mean of winning without switching, mean of winning with a switch.\n",
    "np.mean(np.logical_not(simulations[:, 2])), np.mean(np.logical_not(simulations[:, 3]))"
   ]
  }
 ],
 "metadata": {
  "kernelspec": {
   "display_name": "Python 3",
   "language": "python",
   "name": "python3"
  },
  "language_info": {
   "codemirror_mode": {
    "name": "ipython",
    "version": 3
   },
   "file_extension": ".py",
   "mimetype": "text/x-python",
   "name": "python",
   "nbconvert_exporter": "python",
   "pygments_lexer": "ipython3",
   "version": "3.7.4"
  }
 },
 "nbformat": 4,
 "nbformat_minor": 4
}
