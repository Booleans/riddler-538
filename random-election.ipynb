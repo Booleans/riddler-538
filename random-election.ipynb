{
 "cells": [
  {
   "cell_type": "markdown",
   "id": "16320dce",
   "metadata": {},
   "source": [
    "# Riddler Classic \n",
    "\n",
    "2021-04-23: https://fivethirtyeight.com/features/can-you-cut-the-perfect-pancake/\n",
    "\n",
    "From Aaron Wilkowski comes a rather enigmatic election:\n",
    "\n",
    "Riddler Nation’s neighbor to the west, Enigmerica, is holding an election between two candidates, A and B. Assume every person in Enigmerica votes randomly and independently, and that the number of voters is very, very large. Moreover, due to health precautions, 20 percent of the population decides to vote early by mail.\n",
    "\n",
    "On election night, the results of the 80 percent who voted on Election Day are reported out. Over the next several days, the remaining 20 percent of the votes are then tallied.\n",
    "\n",
    "What is the probability that the candidate who had fewer votes tallied on election night ultimately wins the race?\n",
    "\n",
    "### My Solution\n",
    "\n",
    "I know that for large population sizes the binomial distribution approximates the normal distribution. But for my first choice I'll write a simulation using the binomial distribution and a population size of 100 billion. I'll run 1 million simulations and see how often, on average, the person who is losing on election night ends up winning the overall campaign."
   ]
  },
  {
   "cell_type": "code",
   "execution_count": 1,
   "id": "714b9138",
   "metadata": {
    "tags": []
   },
   "outputs": [
    {
     "data": {
      "text/plain": [
       "0.14753021662376262"
      ]
     },
     "execution_count": 1,
     "metadata": {},
     "output_type": "execute_result"
    }
   ],
   "source": [
    "import numpy as np\n",
    "\n",
    "simulations = 100_000_000\n",
    "population = 100_000_000_000\n",
    "\n",
    "in_person_voters = int(.80 * population)\n",
    "mail_in_voters = population - in_person_voters\n",
    "\n",
    "election_night_votes = np.random.binomial(in_person_voters, 0.5, simulations)\n",
    "behind_at_first = election_night_votes < (in_person_voters / 2)\n",
    "mail_in_votes = np.random.binomial(mail_in_voters, 0.5, simulations)\n",
    "total_votes = election_night_votes + mail_in_votes\n",
    "won_after_behind_at_first = total_votes[behind_at_first] > (population / 2)\n",
    "np.mean(won_after_behind_at_first)"
   ]
  },
  {
   "cell_type": "markdown",
   "id": "02ac0657",
   "metadata": {},
   "source": [
    "Instead of the binomial distribution let's try using a normal approximation since this is a large population size. The standard error decreases at a rate of $ \\frac{1}{\\sqrt{n}} $, meaning the election-night votes will have $ \\frac {1}{2} $ the variance of the mail-in votes, due to having 4 times the population size."
   ]
  },
  {
   "cell_type": "code",
   "execution_count": 2,
   "id": "410ceffa",
   "metadata": {},
   "outputs": [
    {
     "data": {
      "text/plain": [
       "0.14759549"
      ]
     },
     "execution_count": 2,
     "metadata": {},
     "output_type": "execute_result"
    }
   ],
   "source": [
    "election_night = np.sort(np.random.normal(0, 1, size=(simulations, 2)))\n",
    "mail_in_votes = np.random.normal(0, 2, size=(simulations, 2))/4\n",
    "total_votes = election_night + mail_in_votes\n",
    "np.mean(np.argmax(total_votes, axis=1) == 0)"
   ]
  },
  {
   "cell_type": "markdown",
   "id": "091c5a41",
   "metadata": {},
   "source": [
    "Simulations with both the binomial distribution and normal distribution yield the same result of ~14.75% chance of winning the overall election if you're behind on election night."
   ]
  }
 ],
 "metadata": {
  "kernelspec": {
   "display_name": "Python 3",
   "language": "python",
   "name": "python3"
  },
  "language_info": {
   "codemirror_mode": {
    "name": "ipython",
    "version": 3
   },
   "file_extension": ".py",
   "mimetype": "text/x-python",
   "name": "python",
   "nbconvert_exporter": "python",
   "pygments_lexer": "ipython3",
   "version": "3.9.2"
  }
 },
 "nbformat": 4,
 "nbformat_minor": 5
}
