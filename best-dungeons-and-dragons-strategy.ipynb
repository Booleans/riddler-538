{
 "cells": [
  {
   "cell_type": "markdown",
   "metadata": {},
   "source": [
    "# Riddler Classic \n",
    "\n",
    "For proper formatting I recommend viewing this notebook using [nbviewer](https://nbviewer.jupyter.org/github/Booleans/riddler-538/blob/master/best-dungeons-and-dragons-strategy.ipynb).\n",
    "\n",
    "## Can You Find The Best Dungeons & Dragons Strategy?\n",
    "\n",
    "**2020-05-15**: https://fivethirtyeight.com/features/can-you-find-the-best-dungeons-dragons-strategy/\n",
    "\n",
    "The [fifth edition of Dungeons & Dragons](https://5thsrd.org/rules/advantage_and_disadvantage/) introduced a system of “advantage and disadvantage.” When you roll a die “with advantage,” you roll the die twice and keep the higher result. Rolling “with disadvantage” is similar, except you keep the lower result instead. The rules further specify that when a player rolls with both advantage and disadvantage, they cancel out, and the player rolls a single die. Yawn!\n",
    "\n",
    "There are two other, more mathematically interesting ways that advantage and disadvantage could be combined. First, you could have “advantage of disadvantage,” meaning you roll twice with disadvantage and then keep the higher result. Or, you could have “disadvantage of advantage,” meaning you roll twice with advantage and then keep the lower result. With a fair 20-sided die, which situation produces the highest expected roll: advantage of disadvantage, disadvantage of advantage or rolling a single die?\n",
    "\n",
    "*Extra Credit:* Instead of maximizing your expected roll, suppose you need to roll N or better with your 20-sided die. For each value of N, is it better to use advantage of disadvantage, disadvantage of advantage or rolling a single die?\n",
    "\n",
    "### Simulation\n",
    "\n",
    "I'll start with a simulation of the problem to determine the correct solution."
   ]
  },
  {
   "cell_type": "code",
   "execution_count": 1,
   "metadata": {},
   "outputs": [],
   "source": [
    "import numpy as np"
   ]
  },
  {
   "cell_type": "code",
   "execution_count": 2,
   "metadata": {},
   "outputs": [],
   "source": [
    "n_sims = 10**7\n",
    "\n",
    "rolls = np.random.randint(1, 21, size=(n_sims, 4))"
   ]
  },
  {
   "cell_type": "code",
   "execution_count": 3,
   "metadata": {},
   "outputs": [],
   "source": [
    "advantage_1 = np.max(rolls[:,:2], axis=1)\n",
    "advantage_2 = np.max(rolls[:,2:], axis=1)\n",
    "\n",
    "disadvantage_of_advantage = np.minimum(advantage_1, advantage_2)"
   ]
  },
  {
   "cell_type": "code",
   "execution_count": 4,
   "metadata": {},
   "outputs": [],
   "source": [
    "disadvantage_1 = np.min(rolls[:,:2], axis=1)\n",
    "disadvantage_2 = np.min(rolls[:,2:], axis=1)\n",
    "\n",
    "advantage_of_disadvantage = np.maximum(disadvantage_1, disadvantage_2)"
   ]
  },
  {
   "cell_type": "code",
   "execution_count": 5,
   "metadata": {},
   "outputs": [
    {
     "data": {
      "text/plain": [
       "0.603397"
      ]
     },
     "execution_count": 5,
     "metadata": {},
     "output_type": "execute_result"
    }
   ],
   "source": [
    "np.mean(disadvantage_of_advantage > advantage_of_disadvantage)"
   ]
  },
  {
   "cell_type": "code",
   "execution_count": 6,
   "metadata": {},
   "outputs": [
    {
     "data": {
      "text/plain": [
       "(11.1670577, 9.8316747, 10.499290725)"
      ]
     },
     "execution_count": 6,
     "metadata": {},
     "output_type": "execute_result"
    }
   ],
   "source": [
    "np.mean(disadvantage_of_advantage), np.mean(advantage_of_disadvantage), np.mean(rolls)"
   ]
  },
  {
   "cell_type": "code",
   "execution_count": null,
   "metadata": {},
   "outputs": [],
   "source": []
  }
 ],
 "metadata": {
  "kernelspec": {
   "display_name": "Python 3",
   "language": "python",
   "name": "python3"
  },
  "language_info": {
   "codemirror_mode": {
    "name": "ipython",
    "version": 3
   },
   "file_extension": ".py",
   "mimetype": "text/x-python",
   "name": "python",
   "nbconvert_exporter": "python",
   "pygments_lexer": "ipython3",
   "version": "3.7.4"
  }
 },
 "nbformat": 4,
 "nbformat_minor": 4
}
