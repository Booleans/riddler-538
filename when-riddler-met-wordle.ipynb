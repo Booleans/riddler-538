{
 "cells": [
  {
   "cell_type": "markdown",
   "id": "611244ae-9e39-450e-8a14-f6e73320b3df",
   "metadata": {},
   "source": [
    "# When The Riddler Met Wordle\n",
    "\n",
    "**2022-01-14**: https://fivethirtyeight.com/features/when-the-riddler-met-wordle/\n",
    "\n",
    "## Riddler Classic\n",
    "\n",
    "Over the last few weeks, [Wordle](https://www.nytimes.com/games/wordle/index.html) has taken the puzzling world by storm. Thousands of people (including yours truly) play daily, and the story of its creation has been [well documented](https://www.nytimes.com/2022/01/03/technology/wordle-word-game-creator.html).\n",
    "\n",
    "Wordle closely resembles the classic game show [Lingo](https://www.imdb.com/title/tt0423691/). In Wordle, you have six guesses to determine a five-letter mystery word. For each word that you guess, you are told which letters are correct and in the correct position (marked in green), which among the remaining letters are in the mystery word but are in the incorrect position (marked in yellow) and which letters are incorrect altogether.\n",
    "\n",
    "This sounds straightforward enough. But things get a little hairier when the mystery word or one of your guesses has a letter that appears more than once. To brush up on the rules, you may want to check out the following example in which the mystery word is MISOS, taken from last year’s [Lingo-inspired Riddler Classic](https://fivethirtyeight.com/features/can-you-guess-the-mystery-word/):\n",
    "\n",
    "<img src='img/mystery-word-3.png' align='center' style='width: 500px;'>\n",
    "\n",
    "\n",
    "Your goal is to devise a strategy to maximize your probability of winning Wordle in at most three guesses.\n",
    "\n",
    "In particular, I want to know (1) your strategy, (2) the first word you would guess and (3) your probability of winning in three or fewer guesses.\n",
    "\n",
    "To do this, you will need to access Wordle’s library of 2,315 mystery words as well as all 12,972 words you are allowed to guess. For the record, I pulled both of these word lists from Wordle’s source code and listed them alphabetically for your convenience.\n",
    "\n",
    "**Spoiler alert!** If you enjoy playing Wordle daily and do not want to know the entire list of mystery words, then don’t look too closely at these lists. You have been warned!\n"
   ]
  },
  {
   "cell_type": "code",
   "execution_count": 1,
   "id": "3faa246e-253e-4687-86ae-572b0eaffa43",
   "metadata": {},
   "outputs": [],
   "source": [
    "import numpy as np"
   ]
  },
  {
   "cell_type": "code",
   "execution_count": 10,
   "id": "60530ccb-a28a-4105-837d-da6b12c1a9a1",
   "metadata": {},
   "outputs": [],
   "source": [
    "with open('data/wordle-mystery-words.csv') as f:\n",
    "    MYSTERY_WORDS = tuple(word.strip().upper() for word in f)"
   ]
  },
  {
   "cell_type": "code",
   "execution_count": 11,
   "id": "fa401587-81a3-4800-968b-5478a4f624e4",
   "metadata": {},
   "outputs": [
    {
     "data": {
      "text/plain": [
       "array([['A', 'B', 'A', 'C', 'K'],\n",
       "       ['A', 'B', 'A', 'S', 'E'],\n",
       "       ['A', 'B', 'A', 'T', 'E'],\n",
       "       ...,\n",
       "       ['Z', 'E', 'B', 'R', 'A'],\n",
       "       ['Z', 'E', 'S', 'T', 'Y'],\n",
       "       ['Z', 'O', 'N', 'A', 'L']], dtype='<U1')"
      ]
     },
     "execution_count": 11,
     "metadata": {},
     "output_type": "execute_result"
    }
   ],
   "source": [
    "MYSTERY_WORDS = np.array([tuple(word) for word in MYSTERY_WORDS])\n",
    "MYSTERY_WORDS"
   ]
  },
  {
   "cell_type": "code",
   "execution_count": 12,
   "id": "61ffe9d9-bdef-47ad-a292-daf8cac011d9",
   "metadata": {},
   "outputs": [
    {
     "data": {
      "text/plain": [
       "array(['A', 'W', 'A', 'I', 'T'], dtype='<U1')"
      ]
     },
     "execution_count": 12,
     "metadata": {},
     "output_type": "execute_result"
    }
   ],
   "source": [
    "word = MYSTERY_WORDS[130]\n",
    "word"
   ]
  },
  {
   "cell_type": "code",
   "execution_count": 13,
   "id": "469d9bb2-e78c-4f60-a042-829e29e1b601",
   "metadata": {},
   "outputs": [
    {
     "data": {
      "text/plain": [
       "array(['T', 'W', 'I', 'S', 'T'], dtype='<U1')"
      ]
     },
     "execution_count": 13,
     "metadata": {},
     "output_type": "execute_result"
    }
   ],
   "source": [
    "guess = np.array(tuple('TWIST'))\n",
    "guess"
   ]
  },
  {
   "cell_type": "code",
   "execution_count": 14,
   "id": "e6728ecc-7f4e-4b04-ad85-d70181445078",
   "metadata": {},
   "outputs": [
    {
     "data": {
      "text/plain": [
       "array([False,  True, False, False,  True])"
      ]
     },
     "execution_count": 14,
     "metadata": {},
     "output_type": "execute_result"
    }
   ],
   "source": [
    "guess == word"
   ]
  },
  {
   "cell_type": "code",
   "execution_count": 15,
   "id": "7c26b51a-8d74-4cca-8c54-db05bd3dc739",
   "metadata": {},
   "outputs": [
    {
     "data": {
      "text/plain": [
       "array([['N', 'O', 'R', 'T', 'H'],\n",
       "       ['B', 'U', 'G', 'G', 'Y'],\n",
       "       ['T', 'R', 'U', 'E', 'R'],\n",
       "       ['F', 'I', 'S', 'H', 'Y'],\n",
       "       ['V', 'O', 'I', 'C', 'E'],\n",
       "       ['L', 'A', 'N', 'C', 'E'],\n",
       "       ['B', 'R', 'I', 'N', 'G'],\n",
       "       ['M', 'O', 'V', 'I', 'E'],\n",
       "       ['L', 'Y', 'R', 'I', 'C'],\n",
       "       ['S', 'P', 'O', 'O', 'F']], dtype='<U1')"
      ]
     },
     "execution_count": 15,
     "metadata": {},
     "output_type": "execute_result"
    }
   ],
   "source": [
    "MYSTERY_WORDS[np.random.choice(range(2315), size=10, replace=False)]"
   ]
  },
  {
   "cell_type": "code",
   "execution_count": 28,
   "id": "958d97dd-e298-43f9-83f7-199f8f2561bf",
   "metadata": {},
   "outputs": [
    {
     "data": {
      "text/plain": [
       "(array(['B', 'R', 'U', 'N', 'T'], dtype='<U1'),\n",
       " array(['B', 'U', 'G', 'G', 'Y'], dtype='<U1'))"
      ]
     },
     "execution_count": 28,
     "metadata": {},
     "output_type": "execute_result"
    }
   ],
   "source": [
    "guess = np.array(tuple('BRUNT'))\n",
    "target = np.array(tuple('BUGGY'))\n",
    "guess, target"
   ]
  },
  {
   "cell_type": "code",
   "execution_count": 20,
   "id": "f415e85a-c835-46c3-9727-5244e2620ea1",
   "metadata": {},
   "outputs": [
    {
     "data": {
      "text/plain": [
       "array([ True, False, False, False, False])"
      ]
     },
     "execution_count": 20,
     "metadata": {},
     "output_type": "execute_result"
    }
   ],
   "source": [
    "position_match = (guess == target)\n",
    "position_match"
   ]
  },
  {
   "cell_type": "code",
   "execution_count": 24,
   "id": "9f9bacba-7587-4be1-a8ec-24236c023c54",
   "metadata": {},
   "outputs": [],
   "source": [
    "potential_matches = MYSTERY_WORDS"
   ]
  },
  {
   "cell_type": "code",
   "execution_count": 29,
   "id": "5e1699da-508c-4e29-bbfc-5620b1d48511",
   "metadata": {},
   "outputs": [],
   "source": [
    "position_match = (guess == target)\n",
    "potential_matches = potential_matches[np.all(potential_matches[:, position_match] == guess[position_match], axis=1)]\n",
    "letters_in_word = np.isin(guess, target)\n",
    "letters_in_incorrect_position = guess[np.logical_xor(letters_in_word, position_match)]"
   ]
  },
  {
   "cell_type": "code",
   "execution_count": 30,
   "id": "333d2459-e2eb-4686-ba52-3fd5a753aa0e",
   "metadata": {},
   "outputs": [
    {
     "data": {
      "text/plain": [
       "array([ True, False,  True, False, False])"
      ]
     },
     "execution_count": 30,
     "metadata": {},
     "output_type": "execute_result"
    }
   ],
   "source": [
    "letters_in_word"
   ]
  },
  {
   "cell_type": "code",
   "execution_count": 31,
   "id": "59c0440b-4729-45b6-9c03-6dd3778c98eb",
   "metadata": {},
   "outputs": [
    {
     "data": {
      "text/plain": [
       "array(['U'], dtype='<U1')"
      ]
     },
     "execution_count": 31,
     "metadata": {},
     "output_type": "execute_result"
    }
   ],
   "source": [
    "letters_in_incorrect_position"
   ]
  },
  {
   "cell_type": "code",
   "execution_count": null,
   "id": "9c9a1554-1042-47ee-836b-08664a721552",
   "metadata": {},
   "outputs": [],
   "source": []
  }
 ],
 "metadata": {
  "kernelspec": {
   "display_name": "Python 3.9.7 64-bit",
   "language": "python",
   "name": "python397jvsc74a57bd0a91bc8a063c3c2ea66956a02b877c5d73840bc36afc8b1449b0f86f6d67fc53a"
  },
  "language_info": {
   "codemirror_mode": {
    "name": "ipython",
    "version": 3
   },
   "file_extension": ".py",
   "mimetype": "text/x-python",
   "name": "python",
   "nbconvert_exporter": "python",
   "pygments_lexer": "ipython3",
   "version": "3.9.7"
  }
 },
 "nbformat": 4,
 "nbformat_minor": 5
}
