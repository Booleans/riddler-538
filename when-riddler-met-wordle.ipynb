{
 "cells": [
  {
   "cell_type": "markdown",
   "id": "611244ae-9e39-450e-8a14-f6e73320b3df",
   "metadata": {},
   "source": [
    "# When The Riddler Met Wordle\n",
    "\n",
    "**2022-01-14**: https://fivethirtyeight.com/features/when-the-riddler-met-wordle/\n",
    "\n",
    "## Riddler Classic\n",
    "\n",
    "Over the last few weeks, [Wordle](https://www.nytimes.com/games/wordle/index.html) has taken the puzzling world by storm. Thousands of people (including yours truly) play daily, and the story of its creation has been [well documented](https://www.nytimes.com/2022/01/03/technology/wordle-word-game-creator.html).\n",
    "\n",
    "Wordle closely resembles the classic game show [Lingo](https://www.imdb.com/title/tt0423691/). In Wordle, you have six guesses to determine a five-letter mystery word. For each word that you guess, you are told which letters are correct and in the correct position (marked in green), which among the remaining letters are in the mystery word but are in the incorrect position (marked in yellow) and which letters are incorrect altogether.\n",
    "\n",
    "This sounds straightforward enough. But things get a little hairier when the mystery word or one of your guesses has a letter that appears more than once. To brush up on the rules, you may want to check out the following example in which the mystery word is MISOS, taken from last year’s [Lingo-inspired Riddler Classic](https://fivethirtyeight.com/features/can-you-guess-the-mystery-word/):\n",
    "\n",
    "<img src='img/mystery-word-3.png' align='center' style='width: 500px;'>\n",
    "\n",
    "\n",
    "Your goal is to devise a strategy to maximize your probability of winning Wordle in at most three guesses.\n",
    "\n",
    "In particular, I want to know (1) your strategy, (2) the first word you would guess and (3) your probability of winning in three or fewer guesses.\n",
    "\n",
    "To do this, you will need to access Wordle’s library of 2,315 mystery words as well as all 12,972 words you are allowed to guess. For the record, I pulled both of these word lists from Wordle’s source code and listed them alphabetically for your convenience.\n",
    "\n",
    "**Spoiler alert!** If you enjoy playing Wordle daily and do not want to know the entire list of mystery words, then don’t look too closely at these lists. You have been warned!\n"
   ]
  },
  {
   "cell_type": "code",
   "execution_count": 1,
   "id": "3faa246e-253e-4687-86ae-572b0eaffa43",
   "metadata": {},
   "outputs": [],
   "source": [
    "import numpy as np"
   ]
  },
  {
   "cell_type": "code",
   "execution_count": 8,
   "id": "60530ccb-a28a-4105-837d-da6b12c1a9a1",
   "metadata": {},
   "outputs": [],
   "source": [
    "with open('../data/wordle-mystery-words.csv') as f:\n",
    "    MYSTERY_WORDS = tuple(word.strip().upper() for word in f if len(word.strip()) == 5)"
   ]
  },
  {
   "cell_type": "code",
   "execution_count": 10,
   "id": "fa401587-81a3-4800-968b-5478a4f624e4",
   "metadata": {},
   "outputs": [
    {
     "data": {
      "text/plain": [
       "array([['A', 'B', 'A', 'C', 'K'],\n",
       "       ['A', 'B', 'A', 'S', 'E'],\n",
       "       ['A', 'B', 'A', 'T', 'E'],\n",
       "       ...,\n",
       "       ['Z', 'E', 'B', 'R', 'A'],\n",
       "       ['Z', 'E', 'S', 'T', 'Y'],\n",
       "       ['Z', 'O', 'N', 'A', 'L']], dtype='<U1')"
      ]
     },
     "execution_count": 10,
     "metadata": {},
     "output_type": "execute_result"
    }
   ],
   "source": [
    "MYSTERY_WORDS = np.array([tuple(word) for word in MYSTERY_WORDS])\n",
    "MYSTERY_WORDS"
   ]
  },
  {
   "cell_type": "code",
   "execution_count": null,
   "id": "61ffe9d9-bdef-47ad-a292-daf8cac011d9",
   "metadata": {},
   "outputs": [],
   "source": []
  }
 ],
 "metadata": {
  "kernelspec": {
   "display_name": "Python 3.9.7 64-bit",
   "language": "python",
   "name": "python397jvsc74a57bd0a91bc8a063c3c2ea66956a02b877c5d73840bc36afc8b1449b0f86f6d67fc53a"
  },
  "language_info": {
   "codemirror_mode": {
    "name": "ipython",
    "version": 3
   },
   "file_extension": ".py",
   "mimetype": "text/x-python",
   "name": "python",
   "nbconvert_exporter": "python",
   "pygments_lexer": "ipython3",
   "version": "3.9.7"
  }
 },
 "nbformat": 4,
 "nbformat_minor": 5
}
