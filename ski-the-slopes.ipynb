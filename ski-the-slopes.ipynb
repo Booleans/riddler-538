{
 "cells": [
  {
   "cell_type": "markdown",
   "metadata": {},
   "source": [
    "# Riddler Classic \n",
    "\n",
    "**2021-01-22**: https://fivethirtyeight.com/features/can-you-skillfully-ski-the-slopes/\n",
    "\n",
    "## Can You Skillfully Ski The Slopes?\n",
    "\n",
    "Congratulations, you’ve made it to the finals of the Riddler Ski Federation’s winter championship! There’s just one opponent left to beat, and then the gold medal will be yours.\n",
    "\n",
    "Each of you will complete two runs down the mountain, and the times of your runs will be added together. Whoever skis in the least overall time is the winner. Also, this being the Riddler Ski Federation, you have been presented detailed data on both you and your opponent. You are evenly matched, and both have the same [normal](https://mathworld.wolfram.com/NormalDistribution.html) probability distribution of finishing times for each run. And for both of you, your time on the first run is completely independent of your time on the second run.\n",
    "\n",
    "For the first runs, your opponent goes first. Then, it’s your turn. As you cross the finish line, your coach excitedly signals to you that you were faster than your opponent. Without knowing either exact time, what’s the probability that you will still be ahead after the second run and earn your gold medal?"
   ]
  },
  {
   "cell_type": "code",
   "execution_count": 1,
   "metadata": {},
   "outputs": [],
   "source": [
    "import numpy as np"
   ]
  },
  {
   "cell_type": "code",
   "execution_count": 2,
   "metadata": {},
   "outputs": [
    {
     "data": {
      "text/plain": [
       "array([[102.29262231,  83.92271935],\n",
       "       [ 99.19403202, 117.93461956]])"
      ]
     },
     "execution_count": 2,
     "metadata": {},
     "output_type": "execute_result"
    }
   ],
   "source": [
    "times = np.random.normal(100, 10, size=(2,2))\n",
    "times"
   ]
  },
  {
   "cell_type": "markdown",
   "metadata": {},
   "source": [
    "Let the first column represent the times of the skiers on their first run down the mountain, and the second column represent the second run down the slopes. We know that on the first run I was faster than my opponent, so my row will be the row containing the largest value in the first column.\n",
    "\n",
    "I win after the second run if the row with the best (lowest) time in the first run\n",
    "```python \n",
    "np.argmin(times[:, 0])\n",
    "```\n",
    "\n",
    "is the same row number with the lowest sum of the two runs.\n",
    "\n",
    "```python\n",
    "np.argmin(np.sum(times, axis=1))\n",
    "```\n"
   ]
  },
  {
   "cell_type": "markdown",
   "metadata": {},
   "source": [
    "I'll start writing a simulation with a loop and then later return to convert it into pure vectorized operations with numpy. "
   ]
  },
  {
   "cell_type": "code",
   "execution_count": 3,
   "metadata": {},
   "outputs": [],
   "source": [
    "def i_won_gold_medal(mu=100, stdev=10):\n",
    "    times = np.random.normal(mu, stdev, size=(2,2))\n",
    "    fastest_first_run = np.argmin(times[:, 0])\n",
    "    fastest_overall = np.argmin(np.sum(times, axis=1))\n",
    "    return fastest_first_run == fastest_overall"
   ]
  },
  {
   "cell_type": "code",
   "execution_count": 4,
   "metadata": {},
   "outputs": [
    {
     "data": {
      "text/plain": [
       "0.749668"
      ]
     },
     "execution_count": 4,
     "metadata": {},
     "output_type": "execute_result"
    }
   ],
   "source": [
    "trials = 10**6\n",
    "sum(i_won_gold_medal(mu=100, stdev=10) for _ in range(trials))/trials"
   ]
  },
  {
   "cell_type": "markdown",
   "metadata": {},
   "source": [
    "The probability I win overall, given I had the best time on the first trial, is 75%.\n",
    "\n",
    "*Extra credit:* Over in the snowboarding championship, there are 30 finalists, including you (apparently, you’re a dual-sport threat!). Again, you are the last one to complete the first run, and your coach signals that you are in the lead. What is the probability that you’ll win gold in snowboarding?\n",
    "\n",
    "I'll just modify the original function to take in the number of snowboarders as a parameter."
   ]
  },
  {
   "cell_type": "code",
   "execution_count": 5,
   "metadata": {},
   "outputs": [],
   "source": [
    "def i_won_gold_medal(snowboarders=2, mu=100, stdev=10):\n",
    "    times = np.random.normal(mu, stdev, size=(snowboarders, 2))\n",
    "    fastest_first_run = np.argmin(times[:, 0])\n",
    "    fastest_overall = np.argmin(np.sum(times, axis=1))\n",
    "    return fastest_first_run == fastest_overall"
   ]
  },
  {
   "cell_type": "code",
   "execution_count": 6,
   "metadata": {},
   "outputs": [
    {
     "data": {
      "text/plain": [
       "0.314214"
      ]
     },
     "execution_count": 6,
     "metadata": {},
     "output_type": "execute_result"
    }
   ],
   "source": [
    "trials = 10**6\n",
    "sum(i_won_gold_medal(snowboarders=30, mu=100, stdev=10) for _ in range(trials))/trials"
   ]
  },
  {
   "cell_type": "markdown",
   "metadata": {},
   "source": [
    "With 30 partipants total the probability of winning has decreased to ~31.5%. \n",
    "\n",
    "Alright but instead of using a loop in a simulation I'd really prefer to do this solely with numpy. I don't use 3 dimensional arrays often though so this may take some tinkering. \n",
    "\n",
    "I'm going to start by simulating 2 skiers with 2 times each but four competitions total, with dimensions (4, 2, 2). "
   ]
  },
  {
   "cell_type": "code",
   "execution_count": 7,
   "metadata": {},
   "outputs": [
    {
     "data": {
      "text/plain": [
       "array([[[ 97.75440684,  86.42984797],\n",
       "        [112.96338887, 109.62303099]],\n",
       "\n",
       "       [[107.66435836, 107.65011931],\n",
       "        [ 99.21201424,  89.51882512]],\n",
       "\n",
       "       [[102.96747223, 100.01737636],\n",
       "        [ 97.54001381,  92.36475469]],\n",
       "\n",
       "       [[107.81258434, 111.36392443],\n",
       "        [ 95.40208966, 107.56608638]]])"
      ]
     },
     "execution_count": 7,
     "metadata": {},
     "output_type": "execute_result"
    }
   ],
   "source": [
    "times = np.random.normal(100, 10, size=(4, 2, 2))\n",
    "times"
   ]
  },
  {
   "cell_type": "code",
   "execution_count": 8,
   "metadata": {},
   "outputs": [
    {
     "data": {
      "text/plain": [
       "array([[ 97.75440684, 112.96338887],\n",
       "       [107.66435836,  99.21201424],\n",
       "       [102.96747223,  97.54001381],\n",
       "       [107.81258434,  95.40208966]])"
      ]
     },
     "execution_count": 8,
     "metadata": {},
     "output_type": "execute_result"
    }
   ],
   "source": [
    "times[:, :, 0]"
   ]
  },
  {
   "cell_type": "code",
   "execution_count": 9,
   "metadata": {},
   "outputs": [
    {
     "data": {
      "text/plain": [
       "array([0, 1, 1, 1], dtype=int64)"
      ]
     },
     "execution_count": 9,
     "metadata": {},
     "output_type": "execute_result"
    }
   ],
   "source": [
    "fastest_first_run = np.argmin(times[:, :, 0], axis=1)\n",
    "fastest_first_run"
   ]
  },
  {
   "cell_type": "code",
   "execution_count": 10,
   "metadata": {},
   "outputs": [
    {
     "data": {
      "text/plain": [
       "array([[184.18425482, 222.58641985],\n",
       "       [215.31447767, 188.73083937],\n",
       "       [202.98484858, 189.9047685 ],\n",
       "       [219.17650877, 202.96817604]])"
      ]
     },
     "execution_count": 10,
     "metadata": {},
     "output_type": "execute_result"
    }
   ],
   "source": [
    "np.sum(times, axis=2)"
   ]
  },
  {
   "cell_type": "code",
   "execution_count": 11,
   "metadata": {},
   "outputs": [
    {
     "data": {
      "text/plain": [
       "array([0, 1, 1, 1], dtype=int64)"
      ]
     },
     "execution_count": 11,
     "metadata": {},
     "output_type": "execute_result"
    }
   ],
   "source": [
    "np.argmin(np.sum(times, axis=2), axis=1)"
   ]
  },
  {
   "cell_type": "code",
   "execution_count": 12,
   "metadata": {},
   "outputs": [
    {
     "data": {
      "text/plain": [
       "array([ True,  True,  True,  True])"
      ]
     },
     "execution_count": 12,
     "metadata": {},
     "output_type": "execute_result"
    }
   ],
   "source": [
    "np.argmin(times[:, :, 0], axis=1) == np.argmin(np.sum(times, axis=2), axis=1)"
   ]
  },
  {
   "cell_type": "markdown",
   "metadata": {},
   "source": [
    "Putting it all together..."
   ]
  },
  {
   "cell_type": "code",
   "execution_count": 13,
   "metadata": {},
   "outputs": [
    {
     "data": {
      "text/plain": [
       "0.314561"
      ]
     },
     "execution_count": 13,
     "metadata": {},
     "output_type": "execute_result"
    }
   ],
   "source": [
    "simulations = 10**6\n",
    "competitors = 30\n",
    "mu = 100\n",
    "stdev = 10\n",
    "\n",
    "times = np.random.normal(mu, stdev, size=(simulations, competitors, 2))\n",
    "fastest_first_run = np.argmin(times[:, :, 0], axis=1)\n",
    "fastest_overall = np.argmin(np.sum(times, axis=2), axis=1)\n",
    "np.mean(fastest_first_run == fastest_overall)"
   ]
  },
  {
   "cell_type": "markdown",
   "metadata": {},
   "source": [
    "There we go, the fully vectorized code runs significantly faster than my previous function that required a loop."
   ]
  }
 ],
 "metadata": {
  "kernelspec": {
   "display_name": "Python 3",
   "language": "python",
   "name": "python3"
  },
  "language_info": {
   "codemirror_mode": {
    "name": "ipython",
    "version": 3
   },
   "file_extension": ".py",
   "mimetype": "text/x-python",
   "name": "python",
   "nbconvert_exporter": "python",
   "pygments_lexer": "ipython3",
   "version": "3.8.5"
  }
 },
 "nbformat": 4,
 "nbformat_minor": 4
}
